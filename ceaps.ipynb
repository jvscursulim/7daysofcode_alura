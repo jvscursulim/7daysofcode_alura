{
 "cells": [
  {
   "cell_type": "markdown",
   "metadata": {},
   "source": [
    "# 7 Days of code - Alura\n",
    "\n",
    "![image](7dayslogo.png)"
   ]
  },
  {
   "cell_type": "markdown",
   "metadata": {},
   "source": [
    "# Projeto: Analisando dados de Cotas para Exercício de Atividade Parlamentar do ano 2015 (CEAPS)"
   ]
  },
  {
   "cell_type": "markdown",
   "metadata": {},
   "source": [
    "## Dia 1 - Limpeza e tratamento de dados"
   ]
  },
  {
   "cell_type": "markdown",
   "metadata": {},
   "source": [
    "Importando os pacotes que irei utilizar durante a EDA (Exploratory Data Analysis)."
   ]
  },
  {
   "cell_type": "code",
   "execution_count": 1,
   "metadata": {},
   "outputs": [
    {
     "data": {
      "text/html": [
       "        <script type=\"text/javascript\">\n",
       "        window.PlotlyConfig = {MathJaxConfig: 'local'};\n",
       "        if (window.MathJax && window.MathJax.Hub && window.MathJax.Hub.Config) {window.MathJax.Hub.Config({SVG: {font: \"STIX-Web\"}});}\n",
       "        if (typeof require !== 'undefined') {\n",
       "        require.undef(\"plotly\");\n",
       "        requirejs.config({\n",
       "            paths: {\n",
       "                'plotly': ['https://cdn.plot.ly/plotly-2.12.1.min']\n",
       "            }\n",
       "        });\n",
       "        require(['plotly'], function(Plotly) {\n",
       "            window._Plotly = Plotly;\n",
       "        });\n",
       "        }\n",
       "        </script>\n",
       "        "
      ]
     },
     "metadata": {},
     "output_type": "display_data"
    }
   ],
   "source": [
    "import matplotlib.pyplot as plt\n",
    "import numpy as np\n",
    "import pandas as pd\n",
    "import plotly.offline as py \n",
    "import plotly.graph_objs as go \n",
    "import seaborn as sns\n",
    "import warnings\n",
    "\n",
    "warnings.filterwarnings(\"ignore\")\n",
    "py.init_notebook_mode(connected = True)\n",
    "sns.set()"
   ]
  },
  {
   "cell_type": "markdown",
   "metadata": {},
   "source": [
    "O primeiro passo é ler o arquivo `.csv` e transformá-lo em um `DataFrame` para que possamos tratar os dados e posteriormente usá-los para nas análises.\n",
    "\n",
    "Fonte: [Dados Abertos - CEAPS](https://www12.senado.leg.br/transparencia/dados-abertos-transparencia/dados-abertos-ceaps)"
   ]
  },
  {
   "cell_type": "code",
   "execution_count": 2,
   "metadata": {},
   "outputs": [],
   "source": [
    "df = pd.read_csv(\"datasets\\despesa_ceaps_2015.csv\", encoding = 'iso-8859-1', sep = ';')"
   ]
  },
  {
   "cell_type": "markdown",
   "metadata": {},
   "source": [
    "Vamos utilizar o método `info()` para olhar a estrutura do `DataFrame`."
   ]
  },
  {
   "cell_type": "code",
   "execution_count": 3,
   "metadata": {},
   "outputs": [
    {
     "name": "stdout",
     "output_type": "stream",
     "text": [
      "<class 'pandas.core.frame.DataFrame'>\n",
      "MultiIndex: 26057 entries, ('ANO', 'MES', 'SENADOR', 'TIPO_DESPESA', 'CNPJ_CPF', 'FORNECEDOR', 'DOCUMENTO', 'DATA', 'DETALHAMENTO') to ('2015', '12', 'ZEZÉ PERRELLA', 'Passagens aéreas, aquáticas e terrestres nacionais', '02.012.862/0001-60', 'TAM', '7NJ8UP', '20/12/2015', 'Companhia Aérea: TAM, Localizador: 7NJ8UP. Passageiros: MARCO ANTÔNIO PAIS DOS REYS (Matrícula 105147, EFETIVO), Voo: 3826 - RIO/BSB - 20/12/2015;')\n",
      "Data columns (total 2 columns):\n",
      " #   Column              Non-Null Count  Dtype \n",
      "---  ------              --------------  ----- \n",
      " 0   ULTIMA ATUALIZACAO  26057 non-null  object\n",
      " 1   06/08/2021 02:01    26055 non-null  object\n",
      "dtypes: object(2)\n",
      "memory usage: 2.4+ MB\n"
     ]
    }
   ],
   "source": [
    "df.info()"
   ]
  },
  {
   "cell_type": "markdown",
   "metadata": {},
   "source": [
    "Do output acima é possível ver que a forma do `DataFrame` não é a ideal para se trabalhar, pois as colunas com as informações encontram-se como `index` do DataFrame. Utilizando o método `head()` podemos verificar o problema na estrutura do `DataFrame`."
   ]
  },
  {
   "cell_type": "code",
   "execution_count": 4,
   "metadata": {},
   "outputs": [
    {
     "data": {
      "text/html": [
       "<div>\n",
       "<style scoped>\n",
       "    .dataframe tbody tr th:only-of-type {\n",
       "        vertical-align: middle;\n",
       "    }\n",
       "\n",
       "    .dataframe tbody tr th {\n",
       "        vertical-align: top;\n",
       "    }\n",
       "\n",
       "    .dataframe thead th {\n",
       "        text-align: right;\n",
       "    }\n",
       "</style>\n",
       "<table border=\"1\" class=\"dataframe\">\n",
       "  <thead>\n",
       "    <tr style=\"text-align: right;\">\n",
       "      <th></th>\n",
       "      <th></th>\n",
       "      <th></th>\n",
       "      <th></th>\n",
       "      <th></th>\n",
       "      <th></th>\n",
       "      <th></th>\n",
       "      <th></th>\n",
       "      <th></th>\n",
       "      <th>ULTIMA ATUALIZACAO</th>\n",
       "      <th>06/08/2021 02:01</th>\n",
       "    </tr>\n",
       "  </thead>\n",
       "  <tbody>\n",
       "    <tr>\n",
       "      <th>ANO</th>\n",
       "      <th>MES</th>\n",
       "      <th>SENADOR</th>\n",
       "      <th>TIPO_DESPESA</th>\n",
       "      <th>CNPJ_CPF</th>\n",
       "      <th>FORNECEDOR</th>\n",
       "      <th>DOCUMENTO</th>\n",
       "      <th>DATA</th>\n",
       "      <th>DETALHAMENTO</th>\n",
       "      <td>VALOR_REEMBOLSADO</td>\n",
       "      <td>COD_DOCUMENTO</td>\n",
       "    </tr>\n",
       "    <tr>\n",
       "      <th rowspan=\"4\" valign=\"top\">2015</th>\n",
       "      <th rowspan=\"4\" valign=\"top\">1</th>\n",
       "      <th rowspan=\"4\" valign=\"top\">ACIR GURGACZ</th>\n",
       "      <th rowspan=\"4\" valign=\"top\">Aluguel de imóveis para escritório político, compreendendo despesas concernentes a eles.</th>\n",
       "      <th rowspan=\"2\" valign=\"top\">05.914.650/0001-66</th>\n",
       "      <th rowspan=\"2\" valign=\"top\">ENERGISA</th>\n",
       "      <th>647777</th>\n",
       "      <th>14/01/2015</th>\n",
       "      <th>NaN</th>\n",
       "      <td>52,34</td>\n",
       "      <td>2000857</td>\n",
       "    </tr>\n",
       "    <tr>\n",
       "      <th>000647776</th>\n",
       "      <th>18/01/2015</th>\n",
       "      <th>Despesa com pagamento de energia elétrica para o escritório de apoio do Senador Acir Gurgacz</th>\n",
       "      <td>168,17</td>\n",
       "      <td>2001140</td>\n",
       "    </tr>\n",
       "    <tr>\n",
       "      <th>004.948.028-63</th>\n",
       "      <th>GILBERTO PISELO DO NASCIMENTO</th>\n",
       "      <th>001/15</th>\n",
       "      <th>30/01/2015</th>\n",
       "      <th>Despesa com pagamento de aluguel de imóvel para o escritório de apoio do Senador Acir Gurgacz</th>\n",
       "      <td>5000</td>\n",
       "      <td>2001144</td>\n",
       "    </tr>\n",
       "    <tr>\n",
       "      <th>05.423.963/0001-11</th>\n",
       "      <th>OI MÓVEL S.A.</th>\n",
       "      <th>556241490</th>\n",
       "      <th>19/01/2015</th>\n",
       "      <th>Despesa com pagamento de telefonia para uso do escritório de apoio do Senador Acir Gurgacz</th>\n",
       "      <td>416,95</td>\n",
       "      <td>2001141</td>\n",
       "    </tr>\n",
       "  </tbody>\n",
       "</table>\n",
       "</div>"
      ],
      "text/plain": [
       "                                                                                                                                                                                                  ULTIMA ATUALIZACAO  \\\n",
       "ANO  MES SENADOR      TIPO_DESPESA                                       CNPJ_CPF           FORNECEDOR                    DOCUMENTO DATA       DETALHAMENTO                                        VALOR_REEMBOLSADO   \n",
       "2015 1   ACIR GURGACZ Aluguel de imóveis para escritório político, co... 05.914.650/0001-66 ENERGISA                      647777    14/01/2015 NaN                                                             52,34   \n",
       "                                                                                                                          000647776 18/01/2015 Despesa com pagamento de energia elétrica para ...             168,17   \n",
       "                                                                         004.948.028-63     GILBERTO PISELO DO NASCIMENTO 001/15    30/01/2015 Despesa com pagamento de aluguel de imóvel para...               5000   \n",
       "                                                                         05.423.963/0001-11 OI MÓVEL S.A.                 556241490 19/01/2015 Despesa com pagamento de telefonia para uso do ...             416,95   \n",
       "\n",
       "                                                                                                                                                                                                  06/08/2021 02:01  \n",
       "ANO  MES SENADOR      TIPO_DESPESA                                       CNPJ_CPF           FORNECEDOR                    DOCUMENTO DATA       DETALHAMENTO                                          COD_DOCUMENTO  \n",
       "2015 1   ACIR GURGACZ Aluguel de imóveis para escritório político, co... 05.914.650/0001-66 ENERGISA                      647777    14/01/2015 NaN                                                         2000857  \n",
       "                                                                                                                          000647776 18/01/2015 Despesa com pagamento de energia elétrica para ...          2001140  \n",
       "                                                                         004.948.028-63     GILBERTO PISELO DO NASCIMENTO 001/15    30/01/2015 Despesa com pagamento de aluguel de imóvel para...          2001144  \n",
       "                                                                         05.423.963/0001-11 OI MÓVEL S.A.                 556241490 19/01/2015 Despesa com pagamento de telefonia para uso do ...          2001141  "
      ]
     },
     "execution_count": 4,
     "metadata": {},
     "output_type": "execute_result"
    }
   ],
   "source": [
    "df.head()"
   ]
  },
  {
   "cell_type": "markdown",
   "metadata": {},
   "source": [
    "Para consertar esse problema, devemos utilizar o método `reset_index()`, com isso iremos resetar o `index` do `DataFrame`, de forma que todos eles se tornarão colunas na nova versão do `DataFrame`."
   ]
  },
  {
   "cell_type": "code",
   "execution_count": 5,
   "metadata": {},
   "outputs": [
    {
     "data": {
      "text/html": [
       "<div>\n",
       "<style scoped>\n",
       "    .dataframe tbody tr th:only-of-type {\n",
       "        vertical-align: middle;\n",
       "    }\n",
       "\n",
       "    .dataframe tbody tr th {\n",
       "        vertical-align: top;\n",
       "    }\n",
       "\n",
       "    .dataframe thead th {\n",
       "        text-align: right;\n",
       "    }\n",
       "</style>\n",
       "<table border=\"1\" class=\"dataframe\">\n",
       "  <thead>\n",
       "    <tr style=\"text-align: right;\">\n",
       "      <th></th>\n",
       "      <th>level_0</th>\n",
       "      <th>level_1</th>\n",
       "      <th>level_2</th>\n",
       "      <th>level_3</th>\n",
       "      <th>level_4</th>\n",
       "      <th>level_5</th>\n",
       "      <th>level_6</th>\n",
       "      <th>level_7</th>\n",
       "      <th>level_8</th>\n",
       "      <th>ULTIMA ATUALIZACAO</th>\n",
       "      <th>06/08/2021 02:01</th>\n",
       "    </tr>\n",
       "  </thead>\n",
       "  <tbody>\n",
       "    <tr>\n",
       "      <th>0</th>\n",
       "      <td>ANO</td>\n",
       "      <td>MES</td>\n",
       "      <td>SENADOR</td>\n",
       "      <td>TIPO_DESPESA</td>\n",
       "      <td>CNPJ_CPF</td>\n",
       "      <td>FORNECEDOR</td>\n",
       "      <td>DOCUMENTO</td>\n",
       "      <td>DATA</td>\n",
       "      <td>DETALHAMENTO</td>\n",
       "      <td>VALOR_REEMBOLSADO</td>\n",
       "      <td>COD_DOCUMENTO</td>\n",
       "    </tr>\n",
       "    <tr>\n",
       "      <th>1</th>\n",
       "      <td>2015</td>\n",
       "      <td>1</td>\n",
       "      <td>ACIR GURGACZ</td>\n",
       "      <td>Aluguel de imóveis para escritório político, c...</td>\n",
       "      <td>05.914.650/0001-66</td>\n",
       "      <td>ENERGISA</td>\n",
       "      <td>647777</td>\n",
       "      <td>14/01/2015</td>\n",
       "      <td>NaN</td>\n",
       "      <td>52,34</td>\n",
       "      <td>2000857</td>\n",
       "    </tr>\n",
       "    <tr>\n",
       "      <th>2</th>\n",
       "      <td>2015</td>\n",
       "      <td>1</td>\n",
       "      <td>ACIR GURGACZ</td>\n",
       "      <td>Aluguel de imóveis para escritório político, c...</td>\n",
       "      <td>05.914.650/0001-66</td>\n",
       "      <td>ENERGISA</td>\n",
       "      <td>000647776</td>\n",
       "      <td>18/01/2015</td>\n",
       "      <td>Despesa com pagamento de energia elétrica para...</td>\n",
       "      <td>168,17</td>\n",
       "      <td>2001140</td>\n",
       "    </tr>\n",
       "    <tr>\n",
       "      <th>3</th>\n",
       "      <td>2015</td>\n",
       "      <td>1</td>\n",
       "      <td>ACIR GURGACZ</td>\n",
       "      <td>Aluguel de imóveis para escritório político, c...</td>\n",
       "      <td>004.948.028-63</td>\n",
       "      <td>GILBERTO PISELO DO NASCIMENTO</td>\n",
       "      <td>001/15</td>\n",
       "      <td>30/01/2015</td>\n",
       "      <td>Despesa com pagamento de aluguel de imóvel par...</td>\n",
       "      <td>5000</td>\n",
       "      <td>2001144</td>\n",
       "    </tr>\n",
       "    <tr>\n",
       "      <th>4</th>\n",
       "      <td>2015</td>\n",
       "      <td>1</td>\n",
       "      <td>ACIR GURGACZ</td>\n",
       "      <td>Aluguel de imóveis para escritório político, c...</td>\n",
       "      <td>05.423.963/0001-11</td>\n",
       "      <td>OI MÓVEL S.A.</td>\n",
       "      <td>556241490</td>\n",
       "      <td>19/01/2015</td>\n",
       "      <td>Despesa com pagamento de telefonia para uso do...</td>\n",
       "      <td>416,95</td>\n",
       "      <td>2001141</td>\n",
       "    </tr>\n",
       "  </tbody>\n",
       "</table>\n",
       "</div>"
      ],
      "text/plain": [
       "  level_0 level_1       level_2  \\\n",
       "0     ANO     MES       SENADOR   \n",
       "1    2015       1  ACIR GURGACZ   \n",
       "2    2015       1  ACIR GURGACZ   \n",
       "3    2015       1  ACIR GURGACZ   \n",
       "4    2015       1  ACIR GURGACZ   \n",
       "\n",
       "                                             level_3             level_4  \\\n",
       "0                                       TIPO_DESPESA            CNPJ_CPF   \n",
       "1  Aluguel de imóveis para escritório político, c...  05.914.650/0001-66   \n",
       "2  Aluguel de imóveis para escritório político, c...  05.914.650/0001-66   \n",
       "3  Aluguel de imóveis para escritório político, c...      004.948.028-63   \n",
       "4  Aluguel de imóveis para escritório político, c...  05.423.963/0001-11   \n",
       "\n",
       "                         level_5    level_6     level_7  \\\n",
       "0                     FORNECEDOR  DOCUMENTO        DATA   \n",
       "1                       ENERGISA     647777  14/01/2015   \n",
       "2                       ENERGISA  000647776  18/01/2015   \n",
       "3  GILBERTO PISELO DO NASCIMENTO     001/15  30/01/2015   \n",
       "4                  OI MÓVEL S.A.  556241490  19/01/2015   \n",
       "\n",
       "                                             level_8 ULTIMA ATUALIZACAO  \\\n",
       "0                                       DETALHAMENTO  VALOR_REEMBOLSADO   \n",
       "1                                                NaN              52,34   \n",
       "2  Despesa com pagamento de energia elétrica para...             168,17   \n",
       "3  Despesa com pagamento de aluguel de imóvel par...               5000   \n",
       "4  Despesa com pagamento de telefonia para uso do...             416,95   \n",
       "\n",
       "  06/08/2021 02:01  \n",
       "0    COD_DOCUMENTO  \n",
       "1          2000857  \n",
       "2          2001140  \n",
       "3          2001144  \n",
       "4          2001141  "
      ]
     },
     "execution_count": 5,
     "metadata": {},
     "output_type": "execute_result"
    }
   ],
   "source": [
    "df.reset_index(inplace = True)\n",
    "df.head()"
   ]
  },
  {
   "cell_type": "markdown",
   "metadata": {},
   "source": [
    "Chamando o método `head()` podemos visualizar as 5 primeiras colunas do `DataFrame` com o `index` resetado. Aqui é possível ver que as informações que estavam no `index` se tornaram colunas, mas os nomes dessas colunas não estão de acordo com as informações armazenadas (level_0, level_1 e etc), na verdade os nomes corretos para as colunas encontram-se na primeira linha do novo `DataFrame`."
   ]
  },
  {
   "cell_type": "code",
   "execution_count": 6,
   "metadata": {},
   "outputs": [
    {
     "name": "stdout",
     "output_type": "stream",
     "text": [
      "<class 'pandas.core.frame.DataFrame'>\n",
      "RangeIndex: 26057 entries, 0 to 26056\n",
      "Data columns (total 11 columns):\n",
      " #   Column              Non-Null Count  Dtype \n",
      "---  ------              --------------  ----- \n",
      " 0   level_0             26057 non-null  object\n",
      " 1   level_1             26057 non-null  object\n",
      " 2   level_2             26057 non-null  object\n",
      " 3   level_3             26057 non-null  object\n",
      " 4   level_4             26057 non-null  object\n",
      " 5   level_5             26057 non-null  object\n",
      " 6   level_6             21851 non-null  object\n",
      " 7   level_7             26057 non-null  object\n",
      " 8   level_8             22004 non-null  object\n",
      " 9   ULTIMA ATUALIZACAO  26057 non-null  object\n",
      " 10  06/08/2021 02:01    26055 non-null  object\n",
      "dtypes: object(11)\n",
      "memory usage: 2.2+ MB\n"
     ]
    }
   ],
   "source": [
    "df.info()"
   ]
  },
  {
   "cell_type": "markdown",
   "metadata": {},
   "source": [
    "Na célula de código abaixo vamos resolver esse problema fazendo a renomeação das colunas, deletando a primeira linha do `DataFrame` e resetando o `index`."
   ]
  },
  {
   "cell_type": "code",
   "execution_count": 7,
   "metadata": {},
   "outputs": [
    {
     "data": {
      "text/html": [
       "<div>\n",
       "<style scoped>\n",
       "    .dataframe tbody tr th:only-of-type {\n",
       "        vertical-align: middle;\n",
       "    }\n",
       "\n",
       "    .dataframe tbody tr th {\n",
       "        vertical-align: top;\n",
       "    }\n",
       "\n",
       "    .dataframe thead th {\n",
       "        text-align: right;\n",
       "    }\n",
       "</style>\n",
       "<table border=\"1\" class=\"dataframe\">\n",
       "  <thead>\n",
       "    <tr style=\"text-align: right;\">\n",
       "      <th></th>\n",
       "      <th>ANO</th>\n",
       "      <th>MES</th>\n",
       "      <th>SENADOR</th>\n",
       "      <th>TIPO_DESPESA</th>\n",
       "      <th>CNPJ_CPF</th>\n",
       "      <th>FORNECEDOR</th>\n",
       "      <th>DOCUMENTO</th>\n",
       "      <th>DATA</th>\n",
       "      <th>DETALHAMENTO</th>\n",
       "      <th>VALOR_REEMBOLSADO</th>\n",
       "      <th>COD_DOCUMENTO</th>\n",
       "    </tr>\n",
       "  </thead>\n",
       "  <tbody>\n",
       "    <tr>\n",
       "      <th>0</th>\n",
       "      <td>2015</td>\n",
       "      <td>1</td>\n",
       "      <td>ACIR GURGACZ</td>\n",
       "      <td>Aluguel de imóveis para escritório político, c...</td>\n",
       "      <td>05.914.650/0001-66</td>\n",
       "      <td>ENERGISA</td>\n",
       "      <td>647777</td>\n",
       "      <td>14/01/2015</td>\n",
       "      <td>NaN</td>\n",
       "      <td>52,34</td>\n",
       "      <td>2000857</td>\n",
       "    </tr>\n",
       "    <tr>\n",
       "      <th>1</th>\n",
       "      <td>2015</td>\n",
       "      <td>1</td>\n",
       "      <td>ACIR GURGACZ</td>\n",
       "      <td>Aluguel de imóveis para escritório político, c...</td>\n",
       "      <td>05.914.650/0001-66</td>\n",
       "      <td>ENERGISA</td>\n",
       "      <td>000647776</td>\n",
       "      <td>18/01/2015</td>\n",
       "      <td>Despesa com pagamento de energia elétrica para...</td>\n",
       "      <td>168,17</td>\n",
       "      <td>2001140</td>\n",
       "    </tr>\n",
       "    <tr>\n",
       "      <th>2</th>\n",
       "      <td>2015</td>\n",
       "      <td>1</td>\n",
       "      <td>ACIR GURGACZ</td>\n",
       "      <td>Aluguel de imóveis para escritório político, c...</td>\n",
       "      <td>004.948.028-63</td>\n",
       "      <td>GILBERTO PISELO DO NASCIMENTO</td>\n",
       "      <td>001/15</td>\n",
       "      <td>30/01/2015</td>\n",
       "      <td>Despesa com pagamento de aluguel de imóvel par...</td>\n",
       "      <td>5000</td>\n",
       "      <td>2001144</td>\n",
       "    </tr>\n",
       "    <tr>\n",
       "      <th>3</th>\n",
       "      <td>2015</td>\n",
       "      <td>1</td>\n",
       "      <td>ACIR GURGACZ</td>\n",
       "      <td>Aluguel de imóveis para escritório político, c...</td>\n",
       "      <td>05.423.963/0001-11</td>\n",
       "      <td>OI MÓVEL S.A.</td>\n",
       "      <td>556241490</td>\n",
       "      <td>19/01/2015</td>\n",
       "      <td>Despesa com pagamento de telefonia para uso do...</td>\n",
       "      <td>416,95</td>\n",
       "      <td>2001141</td>\n",
       "    </tr>\n",
       "    <tr>\n",
       "      <th>4</th>\n",
       "      <td>2015</td>\n",
       "      <td>1</td>\n",
       "      <td>ACIR GURGACZ</td>\n",
       "      <td>Aquisição de material de consumo para uso no e...</td>\n",
       "      <td>07.170.542/0001-51</td>\n",
       "      <td>INK JET INFORMATICA E PAPELARIA LTDA EPP</td>\n",
       "      <td>14654</td>\n",
       "      <td>09/01/2015</td>\n",
       "      <td>Despesa com material de consumo para uso do es...</td>\n",
       "      <td>108,5</td>\n",
       "      <td>2001139</td>\n",
       "    </tr>\n",
       "  </tbody>\n",
       "</table>\n",
       "</div>"
      ],
      "text/plain": [
       "    ANO MES       SENADOR                                       TIPO_DESPESA  \\\n",
       "0  2015   1  ACIR GURGACZ  Aluguel de imóveis para escritório político, c...   \n",
       "1  2015   1  ACIR GURGACZ  Aluguel de imóveis para escritório político, c...   \n",
       "2  2015   1  ACIR GURGACZ  Aluguel de imóveis para escritório político, c...   \n",
       "3  2015   1  ACIR GURGACZ  Aluguel de imóveis para escritório político, c...   \n",
       "4  2015   1  ACIR GURGACZ  Aquisição de material de consumo para uso no e...   \n",
       "\n",
       "             CNPJ_CPF                                FORNECEDOR  DOCUMENTO  \\\n",
       "0  05.914.650/0001-66                                  ENERGISA     647777   \n",
       "1  05.914.650/0001-66                                  ENERGISA  000647776   \n",
       "2      004.948.028-63             GILBERTO PISELO DO NASCIMENTO     001/15   \n",
       "3  05.423.963/0001-11                             OI MÓVEL S.A.  556241490   \n",
       "4  07.170.542/0001-51  INK JET INFORMATICA E PAPELARIA LTDA EPP      14654   \n",
       "\n",
       "         DATA                                       DETALHAMENTO  \\\n",
       "0  14/01/2015                                                NaN   \n",
       "1  18/01/2015  Despesa com pagamento de energia elétrica para...   \n",
       "2  30/01/2015  Despesa com pagamento de aluguel de imóvel par...   \n",
       "3  19/01/2015  Despesa com pagamento de telefonia para uso do...   \n",
       "4  09/01/2015  Despesa com material de consumo para uso do es...   \n",
       "\n",
       "  VALOR_REEMBOLSADO COD_DOCUMENTO  \n",
       "0             52,34       2000857  \n",
       "1            168,17       2001140  \n",
       "2              5000       2001144  \n",
       "3            416,95       2001141  \n",
       "4             108,5       2001139  "
      ]
     },
     "execution_count": 7,
     "metadata": {},
     "output_type": "execute_result"
    }
   ],
   "source": [
    "columns_list = [column for column in df.columns]\n",
    "new_columns_list = [item for item in df.iloc[0,:]]\n",
    "df = df.rename(columns={item[0]: item[1] for item in zip(columns_list, new_columns_list)})\n",
    "df = df.drop(index = 0, axis = 'rows')\n",
    "df.reset_index(inplace = True)\n",
    "del df['index']\n",
    "df.head()"
   ]
  },
  {
   "cell_type": "code",
   "execution_count": 8,
   "metadata": {},
   "outputs": [
    {
     "name": "stdout",
     "output_type": "stream",
     "text": [
      "<class 'pandas.core.frame.DataFrame'>\n",
      "RangeIndex: 26056 entries, 0 to 26055\n",
      "Data columns (total 11 columns):\n",
      " #   Column             Non-Null Count  Dtype \n",
      "---  ------             --------------  ----- \n",
      " 0   ANO                26056 non-null  object\n",
      " 1   MES                26056 non-null  object\n",
      " 2   SENADOR            26056 non-null  object\n",
      " 3   TIPO_DESPESA       26056 non-null  object\n",
      " 4   CNPJ_CPF           26056 non-null  object\n",
      " 5   FORNECEDOR         26056 non-null  object\n",
      " 6   DOCUMENTO          21850 non-null  object\n",
      " 7   DATA               26056 non-null  object\n",
      " 8   DETALHAMENTO       22003 non-null  object\n",
      " 9   VALOR_REEMBOLSADO  26056 non-null  object\n",
      " 10  COD_DOCUMENTO      26054 non-null  object\n",
      "dtypes: object(11)\n",
      "memory usage: 2.2+ MB\n"
     ]
    }
   ],
   "source": [
    "df.info()"
   ]
  },
  {
   "cell_type": "markdown",
   "metadata": {},
   "source": [
    "Analisando o output do método `info()` no `DataFrame` melhorado, podemos notar que existem alguns `NaN` presentes em algumas colunas. Além disso, todas as colunas são do tipo `object`, portanto estão na forma de string ou de algum outro tipo de objeto não número do Python, contudo a coluna VALOR_REEMBOLSADO claramente deveria ser do tipo numérico `float`, já que se tratam de valores monetários.\n",
    "\n",
    "Antes de iniciarmos a análise devemos dar uma olhada nos dados, tratar problemas e alterar o tipo de dado onde for necessário. Para dar início a essa etapa, vou analisar os dois valores `NaN` presentes na coluna COD_DOCUMENTO."
   ]
  },
  {
   "cell_type": "code",
   "execution_count": 9,
   "metadata": {},
   "outputs": [
    {
     "data": {
      "text/plain": [
       "2"
      ]
     },
     "execution_count": 9,
     "metadata": {},
     "output_type": "execute_result"
    }
   ],
   "source": [
    "df['COD_DOCUMENTO'].isna().sum()"
   ]
  },
  {
   "cell_type": "code",
   "execution_count": 10,
   "metadata": {},
   "outputs": [
    {
     "data": {
      "text/html": [
       "<div>\n",
       "<style scoped>\n",
       "    .dataframe tbody tr th:only-of-type {\n",
       "        vertical-align: middle;\n",
       "    }\n",
       "\n",
       "    .dataframe tbody tr th {\n",
       "        vertical-align: top;\n",
       "    }\n",
       "\n",
       "    .dataframe thead th {\n",
       "        text-align: right;\n",
       "    }\n",
       "</style>\n",
       "<table border=\"1\" class=\"dataframe\">\n",
       "  <thead>\n",
       "    <tr style=\"text-align: right;\">\n",
       "      <th></th>\n",
       "      <th>ANO</th>\n",
       "      <th>MES</th>\n",
       "      <th>SENADOR</th>\n",
       "      <th>TIPO_DESPESA</th>\n",
       "      <th>CNPJ_CPF</th>\n",
       "      <th>FORNECEDOR</th>\n",
       "      <th>DOCUMENTO</th>\n",
       "      <th>DATA</th>\n",
       "      <th>DETALHAMENTO</th>\n",
       "      <th>VALOR_REEMBOLSADO</th>\n",
       "      <th>COD_DOCUMENTO</th>\n",
       "    </tr>\n",
       "  </thead>\n",
       "  <tbody>\n",
       "    <tr>\n",
       "      <th>5922</th>\n",
       "      <td>2015</td>\n",
       "      <td>8</td>\n",
       "      <td>EDUARDO AMORIM</td>\n",
       "      <td>Passagens aéreas, aquáticas e terrestres nacio...</td>\n",
       "      <td>13.353.495/0001-84</td>\n",
       "      <td>PROPAGTUR - Propag Turismo Ltda</td>\n",
       "      <td>SEM FATURA\";02/08/2015\"</td>\n",
       "      <td>Companhia Aérea: TAM, Localizador: YXGDSJ. Pas...</td>\n",
       "      <td>469,53</td>\n",
       "      <td>2014675</td>\n",
       "      <td>NaN</td>\n",
       "    </tr>\n",
       "    <tr>\n",
       "      <th>5929</th>\n",
       "      <td>2015</td>\n",
       "      <td>8</td>\n",
       "      <td>EDUARDO AMORIM</td>\n",
       "      <td>Passagens aéreas, aquáticas e terrestres nacio...</td>\n",
       "      <td>13.353.495/0001-84</td>\n",
       "      <td>PROPAGTUR - Propag Turismo Ltda</td>\n",
       "      <td>¨¨SEM FATURA\";17/08/2015\"</td>\n",
       "      <td>Companhia Aérea: AVIANCA, Localizador: ZNEU9F....</td>\n",
       "      <td>460,45</td>\n",
       "      <td>2016557</td>\n",
       "      <td>NaN</td>\n",
       "    </tr>\n",
       "  </tbody>\n",
       "</table>\n",
       "</div>"
      ],
      "text/plain": [
       "       ANO MES         SENADOR  \\\n",
       "5922  2015   8  EDUARDO AMORIM   \n",
       "5929  2015   8  EDUARDO AMORIM   \n",
       "\n",
       "                                           TIPO_DESPESA            CNPJ_CPF  \\\n",
       "5922  Passagens aéreas, aquáticas e terrestres nacio...  13.353.495/0001-84   \n",
       "5929  Passagens aéreas, aquáticas e terrestres nacio...  13.353.495/0001-84   \n",
       "\n",
       "                           FORNECEDOR                  DOCUMENTO  \\\n",
       "5922  PROPAGTUR - Propag Turismo Ltda    SEM FATURA\";02/08/2015\"   \n",
       "5929  PROPAGTUR - Propag Turismo Ltda  ¨¨SEM FATURA\";17/08/2015\"   \n",
       "\n",
       "                                                   DATA DETALHAMENTO  \\\n",
       "5922  Companhia Aérea: TAM, Localizador: YXGDSJ. Pas...       469,53   \n",
       "5929  Companhia Aérea: AVIANCA, Localizador: ZNEU9F....       460,45   \n",
       "\n",
       "     VALOR_REEMBOLSADO COD_DOCUMENTO  \n",
       "5922           2014675           NaN  \n",
       "5929           2016557           NaN  "
      ]
     },
     "execution_count": 10,
     "metadata": {},
     "output_type": "execute_result"
    }
   ],
   "source": [
    "df[df['COD_DOCUMENTO'].isna()]"
   ]
  },
  {
   "cell_type": "markdown",
   "metadata": {},
   "source": [
    "A célula de código acima nos fornece uma tabela com as informações das duas linhas onda há `NaN` na coluna COD_DOCUMENTO. Analisando essas duas linhas e comparando-as com as cinco linhas apresentadas como resultado da utilização do método `head()` após solucionarmos o problema do nome das colunas, já é possível identificar que não é apenas a coluna COD_DOCUMENTO que encontra-se problemática nessas duas linhas. Observe que na coluna DETALHAMENTO temos os valores das despesas em vez da descrição da despesa, já na coluna VALOR_REEMBOLSADO encontram-se os códigos dos documentos e na coluna DATA temos as informações sobre o detalhamento das despesas. Além disso, é possível notar que na coluna DOCUMENTO temos a informação SEM FATURA e uma data, que possivelmente é a data de faturamento do documento, já a data que encontra-se no conteúdo da coluna DATA deve se referir a data em que a viagem ocorreu.\n",
    "\n",
    "Uma vez que constatamos os problemas nessas linhas, agora podemos fazer as alterações necessárias nas células de código abaixo afim de consertar os problemas presentes nessas linhas do `DataFrame`.\n"
   ]
  },
  {
   "cell_type": "code",
   "execution_count": 11,
   "metadata": {},
   "outputs": [
    {
     "data": {
      "text/html": [
       "<div>\n",
       "<style scoped>\n",
       "    .dataframe tbody tr th:only-of-type {\n",
       "        vertical-align: middle;\n",
       "    }\n",
       "\n",
       "    .dataframe tbody tr th {\n",
       "        vertical-align: top;\n",
       "    }\n",
       "\n",
       "    .dataframe thead th {\n",
       "        text-align: right;\n",
       "    }\n",
       "</style>\n",
       "<table border=\"1\" class=\"dataframe\">\n",
       "  <thead>\n",
       "    <tr style=\"text-align: right;\">\n",
       "      <th></th>\n",
       "      <th>ANO</th>\n",
       "      <th>MES</th>\n",
       "      <th>SENADOR</th>\n",
       "      <th>TIPO_DESPESA</th>\n",
       "      <th>CNPJ_CPF</th>\n",
       "      <th>FORNECEDOR</th>\n",
       "      <th>DOCUMENTO</th>\n",
       "      <th>DATA</th>\n",
       "      <th>DETALHAMENTO</th>\n",
       "      <th>VALOR_REEMBOLSADO</th>\n",
       "      <th>COD_DOCUMENTO</th>\n",
       "    </tr>\n",
       "  </thead>\n",
       "  <tbody>\n",
       "    <tr>\n",
       "      <th>5922</th>\n",
       "      <td>2015</td>\n",
       "      <td>8</td>\n",
       "      <td>EDUARDO AMORIM</td>\n",
       "      <td>Passagens aéreas, aquáticas e terrestres nacio...</td>\n",
       "      <td>13.353.495/0001-84</td>\n",
       "      <td>PROPAGTUR - Propag Turismo Ltda</td>\n",
       "      <td>SEM FATURA</td>\n",
       "      <td>02/08/2015</td>\n",
       "      <td>Companhia Aérea: TAM, Localizador: YXGDSJ. Pas...</td>\n",
       "      <td>469,53</td>\n",
       "      <td>2014675</td>\n",
       "    </tr>\n",
       "    <tr>\n",
       "      <th>5929</th>\n",
       "      <td>2015</td>\n",
       "      <td>8</td>\n",
       "      <td>EDUARDO AMORIM</td>\n",
       "      <td>Passagens aéreas, aquáticas e terrestres nacio...</td>\n",
       "      <td>13.353.495/0001-84</td>\n",
       "      <td>PROPAGTUR - Propag Turismo Ltda</td>\n",
       "      <td>¨¨SEM FATURA</td>\n",
       "      <td>17/08/2015</td>\n",
       "      <td>Companhia Aérea: AVIANCA, Localizador: ZNEU9F....</td>\n",
       "      <td>460,45</td>\n",
       "      <td>2016557</td>\n",
       "    </tr>\n",
       "  </tbody>\n",
       "</table>\n",
       "</div>"
      ],
      "text/plain": [
       "       ANO MES         SENADOR  \\\n",
       "5922  2015   8  EDUARDO AMORIM   \n",
       "5929  2015   8  EDUARDO AMORIM   \n",
       "\n",
       "                                           TIPO_DESPESA            CNPJ_CPF  \\\n",
       "5922  Passagens aéreas, aquáticas e terrestres nacio...  13.353.495/0001-84   \n",
       "5929  Passagens aéreas, aquáticas e terrestres nacio...  13.353.495/0001-84   \n",
       "\n",
       "                           FORNECEDOR     DOCUMENTO        DATA  \\\n",
       "5922  PROPAGTUR - Propag Turismo Ltda    SEM FATURA  02/08/2015   \n",
       "5929  PROPAGTUR - Propag Turismo Ltda  ¨¨SEM FATURA  17/08/2015   \n",
       "\n",
       "                                           DETALHAMENTO VALOR_REEMBOLSADO  \\\n",
       "5922  Companhia Aérea: TAM, Localizador: YXGDSJ. Pas...            469,53   \n",
       "5929  Companhia Aérea: AVIANCA, Localizador: ZNEU9F....            460,45   \n",
       "\n",
       "     COD_DOCUMENTO  \n",
       "5922       2014675  \n",
       "5929       2016557  "
      ]
     },
     "execution_count": 11,
     "metadata": {},
     "output_type": "execute_result"
    }
   ],
   "source": [
    "rows_list = [index for index in df[df['COD_DOCUMENTO'].isna()].index]\n",
    "\n",
    "for row in rows_list:\n",
    "\n",
    "    df['COD_DOCUMENTO'][row] = df['VALOR_REEMBOLSADO'][row]\n",
    "    df['VALOR_REEMBOLSADO'][row] = df['DETALHAMENTO'][row]\n",
    "    df['DETALHAMENTO'][row]= df['DATA'][row]\n",
    "    infos = df['DOCUMENTO'][row].replace('\"', \"\").split(\";\")\n",
    "    df['DOCUMENTO'][row] = infos[0]\n",
    "    df['DATA'][row] = infos[1]\n",
    "\n",
    "df.iloc[rows_list, :]"
   ]
  },
  {
   "cell_type": "markdown",
   "metadata": {},
   "source": [
    "Agora tudo parece correto, exceto por dois caracteres estranhos na frente das palavras SEM FATURA na coluna DOCUMENTO da linha 5929. Na próxima célula de código vamos retirar esses caracteres estranhos."
   ]
  },
  {
   "cell_type": "code",
   "execution_count": 12,
   "metadata": {},
   "outputs": [
    {
     "data": {
      "text/html": [
       "<div>\n",
       "<style scoped>\n",
       "    .dataframe tbody tr th:only-of-type {\n",
       "        vertical-align: middle;\n",
       "    }\n",
       "\n",
       "    .dataframe tbody tr th {\n",
       "        vertical-align: top;\n",
       "    }\n",
       "\n",
       "    .dataframe thead th {\n",
       "        text-align: right;\n",
       "    }\n",
       "</style>\n",
       "<table border=\"1\" class=\"dataframe\">\n",
       "  <thead>\n",
       "    <tr style=\"text-align: right;\">\n",
       "      <th></th>\n",
       "      <th>ANO</th>\n",
       "      <th>MES</th>\n",
       "      <th>SENADOR</th>\n",
       "      <th>TIPO_DESPESA</th>\n",
       "      <th>CNPJ_CPF</th>\n",
       "      <th>FORNECEDOR</th>\n",
       "      <th>DOCUMENTO</th>\n",
       "      <th>DATA</th>\n",
       "      <th>DETALHAMENTO</th>\n",
       "      <th>VALOR_REEMBOLSADO</th>\n",
       "      <th>COD_DOCUMENTO</th>\n",
       "    </tr>\n",
       "  </thead>\n",
       "  <tbody>\n",
       "    <tr>\n",
       "      <th>5922</th>\n",
       "      <td>2015</td>\n",
       "      <td>8</td>\n",
       "      <td>EDUARDO AMORIM</td>\n",
       "      <td>Passagens aéreas, aquáticas e terrestres nacio...</td>\n",
       "      <td>13.353.495/0001-84</td>\n",
       "      <td>PROPAGTUR - Propag Turismo Ltda</td>\n",
       "      <td>SEM FATURA</td>\n",
       "      <td>02/08/2015</td>\n",
       "      <td>Companhia Aérea: TAM, Localizador: YXGDSJ. Pas...</td>\n",
       "      <td>469,53</td>\n",
       "      <td>2014675</td>\n",
       "    </tr>\n",
       "    <tr>\n",
       "      <th>5929</th>\n",
       "      <td>2015</td>\n",
       "      <td>8</td>\n",
       "      <td>EDUARDO AMORIM</td>\n",
       "      <td>Passagens aéreas, aquáticas e terrestres nacio...</td>\n",
       "      <td>13.353.495/0001-84</td>\n",
       "      <td>PROPAGTUR - Propag Turismo Ltda</td>\n",
       "      <td>SEM FATURA</td>\n",
       "      <td>17/08/2015</td>\n",
       "      <td>Companhia Aérea: AVIANCA, Localizador: ZNEU9F....</td>\n",
       "      <td>460,45</td>\n",
       "      <td>2016557</td>\n",
       "    </tr>\n",
       "  </tbody>\n",
       "</table>\n",
       "</div>"
      ],
      "text/plain": [
       "       ANO MES         SENADOR  \\\n",
       "5922  2015   8  EDUARDO AMORIM   \n",
       "5929  2015   8  EDUARDO AMORIM   \n",
       "\n",
       "                                           TIPO_DESPESA            CNPJ_CPF  \\\n",
       "5922  Passagens aéreas, aquáticas e terrestres nacio...  13.353.495/0001-84   \n",
       "5929  Passagens aéreas, aquáticas e terrestres nacio...  13.353.495/0001-84   \n",
       "\n",
       "                           FORNECEDOR   DOCUMENTO        DATA  \\\n",
       "5922  PROPAGTUR - Propag Turismo Ltda  SEM FATURA  02/08/2015   \n",
       "5929  PROPAGTUR - Propag Turismo Ltda  SEM FATURA  17/08/2015   \n",
       "\n",
       "                                           DETALHAMENTO VALOR_REEMBOLSADO  \\\n",
       "5922  Companhia Aérea: TAM, Localizador: YXGDSJ. Pas...            469,53   \n",
       "5929  Companhia Aérea: AVIANCA, Localizador: ZNEU9F....            460,45   \n",
       "\n",
       "     COD_DOCUMENTO  \n",
       "5922       2014675  \n",
       "5929       2016557  "
      ]
     },
     "execution_count": 12,
     "metadata": {},
     "output_type": "execute_result"
    }
   ],
   "source": [
    "df['DOCUMENTO'] = df['DOCUMENTO'][5929][2:]\n",
    "df.iloc[rows_list, :]"
   ]
  },
  {
   "cell_type": "markdown",
   "metadata": {},
   "source": [
    "Agora sim, tudo está correto! Antes de irmos para o próximo passo, vamos realizar uma nova checagem na coluna COD_DOCUMENTO para ver que agora de fato não existem `NaN` nela."
   ]
  },
  {
   "cell_type": "code",
   "execution_count": 13,
   "metadata": {},
   "outputs": [
    {
     "data": {
      "text/plain": [
       "0"
      ]
     },
     "execution_count": 13,
     "metadata": {},
     "output_type": "execute_result"
    }
   ],
   "source": [
    "df['COD_DOCUMENTO'].isna().sum()"
   ]
  },
  {
   "cell_type": "markdown",
   "metadata": {},
   "source": [
    "Como o resultado da soma executada na célula de cógido acima foi igual a 0, é possível inferir que não existem mais `NaN` na coluna COD_DOCUMENTO. Se usarmos o método `info()` veremos que de fato todas as entradas nessa coluna são `non-null`. "
   ]
  },
  {
   "cell_type": "code",
   "execution_count": 14,
   "metadata": {},
   "outputs": [
    {
     "name": "stdout",
     "output_type": "stream",
     "text": [
      "<class 'pandas.core.frame.DataFrame'>\n",
      "RangeIndex: 26056 entries, 0 to 26055\n",
      "Data columns (total 11 columns):\n",
      " #   Column             Non-Null Count  Dtype \n",
      "---  ------             --------------  ----- \n",
      " 0   ANO                26056 non-null  object\n",
      " 1   MES                26056 non-null  object\n",
      " 2   SENADOR            26056 non-null  object\n",
      " 3   TIPO_DESPESA       26056 non-null  object\n",
      " 4   CNPJ_CPF           26056 non-null  object\n",
      " 5   FORNECEDOR         26056 non-null  object\n",
      " 6   DOCUMENTO          26056 non-null  object\n",
      " 7   DATA               26056 non-null  object\n",
      " 8   DETALHAMENTO       22003 non-null  object\n",
      " 9   VALOR_REEMBOLSADO  26056 non-null  object\n",
      " 10  COD_DOCUMENTO      26056 non-null  object\n",
      "dtypes: object(11)\n",
      "memory usage: 2.2+ MB\n"
     ]
    }
   ],
   "source": [
    "df.info()"
   ]
  },
  {
   "cell_type": "markdown",
   "metadata": {},
   "source": [
    "Do output acima vemos que agora tudo está certo na coluna COD_DOCUMENTO, porém na coluna detalhamento temos várias entradas `NaN`. Na célula de código abaixo calculamos a quantidade de entradas `NaN` na coluna DETALHAMENTO."
   ]
  },
  {
   "cell_type": "code",
   "execution_count": 15,
   "metadata": {},
   "outputs": [
    {
     "data": {
      "text/plain": [
       "4053"
      ]
     },
     "execution_count": 15,
     "metadata": {},
     "output_type": "execute_result"
    }
   ],
   "source": [
    "df['DETALHAMENTO'].isna().sum()"
   ]
  },
  {
   "cell_type": "markdown",
   "metadata": {},
   "source": [
    "Rodando o comando na célula de código abaixo, temos como resultado uma tabela com todas as linhas em que `NaN` esteja presente na coluna DETALHAMENTO."
   ]
  },
  {
   "cell_type": "code",
   "execution_count": 16,
   "metadata": {},
   "outputs": [
    {
     "data": {
      "text/html": [
       "<div>\n",
       "<style scoped>\n",
       "    .dataframe tbody tr th:only-of-type {\n",
       "        vertical-align: middle;\n",
       "    }\n",
       "\n",
       "    .dataframe tbody tr th {\n",
       "        vertical-align: top;\n",
       "    }\n",
       "\n",
       "    .dataframe thead th {\n",
       "        text-align: right;\n",
       "    }\n",
       "</style>\n",
       "<table border=\"1\" class=\"dataframe\">\n",
       "  <thead>\n",
       "    <tr style=\"text-align: right;\">\n",
       "      <th></th>\n",
       "      <th>ANO</th>\n",
       "      <th>MES</th>\n",
       "      <th>SENADOR</th>\n",
       "      <th>TIPO_DESPESA</th>\n",
       "      <th>CNPJ_CPF</th>\n",
       "      <th>FORNECEDOR</th>\n",
       "      <th>DOCUMENTO</th>\n",
       "      <th>DATA</th>\n",
       "      <th>DETALHAMENTO</th>\n",
       "      <th>VALOR_REEMBOLSADO</th>\n",
       "      <th>COD_DOCUMENTO</th>\n",
       "    </tr>\n",
       "  </thead>\n",
       "  <tbody>\n",
       "    <tr>\n",
       "      <th>0</th>\n",
       "      <td>2015</td>\n",
       "      <td>1</td>\n",
       "      <td>ACIR GURGACZ</td>\n",
       "      <td>Aluguel de imóveis para escritório político, c...</td>\n",
       "      <td>05.914.650/0001-66</td>\n",
       "      <td>ENERGISA</td>\n",
       "      <td>SEM FATURA</td>\n",
       "      <td>14/01/2015</td>\n",
       "      <td>NaN</td>\n",
       "      <td>52,34</td>\n",
       "      <td>2000857</td>\n",
       "    </tr>\n",
       "    <tr>\n",
       "      <th>439</th>\n",
       "      <td>2015</td>\n",
       "      <td>1</td>\n",
       "      <td>ALFREDO NASCIMENTO</td>\n",
       "      <td>Aluguel de imóveis para escritório político, c...</td>\n",
       "      <td>023.211.571-00</td>\n",
       "      <td>Gilberto Assunção de Oliveira</td>\n",
       "      <td>SEM FATURA</td>\n",
       "      <td>05/01/2015</td>\n",
       "      <td>NaN</td>\n",
       "      <td>3420</td>\n",
       "      <td>2000792</td>\n",
       "    </tr>\n",
       "    <tr>\n",
       "      <th>440</th>\n",
       "      <td>2015</td>\n",
       "      <td>1</td>\n",
       "      <td>ALFREDO NASCIMENTO</td>\n",
       "      <td>Aluguel de imóveis para escritório político, c...</td>\n",
       "      <td>00.108.786/0001-65</td>\n",
       "      <td>Net</td>\n",
       "      <td>SEM FATURA</td>\n",
       "      <td>05/01/2015</td>\n",
       "      <td>NaN</td>\n",
       "      <td>307,74</td>\n",
       "      <td>2000796</td>\n",
       "    </tr>\n",
       "    <tr>\n",
       "      <th>879</th>\n",
       "      <td>2015</td>\n",
       "      <td>6</td>\n",
       "      <td>ALVARO DIAS</td>\n",
       "      <td>Locomoção, hospedagem, alimentação, combustíve...</td>\n",
       "      <td>07.686.368/0001-02</td>\n",
       "      <td>WTC - Sheraton</td>\n",
       "      <td>SEM FATURA</td>\n",
       "      <td>24/06/2015</td>\n",
       "      <td>NaN</td>\n",
       "      <td>506,61</td>\n",
       "      <td>2011576</td>\n",
       "    </tr>\n",
       "    <tr>\n",
       "      <th>891</th>\n",
       "      <td>2015</td>\n",
       "      <td>8</td>\n",
       "      <td>ALVARO DIAS</td>\n",
       "      <td>Locomoção, hospedagem, alimentação, combustíve...</td>\n",
       "      <td>16.978.175/0001-08</td>\n",
       "      <td>Ádria Viagens e Turismo</td>\n",
       "      <td>SEM FATURA</td>\n",
       "      <td>01/09/2015</td>\n",
       "      <td>NaN</td>\n",
       "      <td>385</td>\n",
       "      <td>2017062</td>\n",
       "    </tr>\n",
       "    <tr>\n",
       "      <th>...</th>\n",
       "      <td>...</td>\n",
       "      <td>...</td>\n",
       "      <td>...</td>\n",
       "      <td>...</td>\n",
       "      <td>...</td>\n",
       "      <td>...</td>\n",
       "      <td>...</td>\n",
       "      <td>...</td>\n",
       "      <td>...</td>\n",
       "      <td>...</td>\n",
       "      <td>...</td>\n",
       "    </tr>\n",
       "    <tr>\n",
       "      <th>26046</th>\n",
       "      <td>2015</td>\n",
       "      <td>12</td>\n",
       "      <td>ZEZÉ PERRELLA</td>\n",
       "      <td>Locomoção, hospedagem, alimentação, combustíve...</td>\n",
       "      <td>00.911.117/0001-27</td>\n",
       "      <td>Sulamita Naves de Aguiar</td>\n",
       "      <td>SEM FATURA</td>\n",
       "      <td>13/12/2015</td>\n",
       "      <td>NaN</td>\n",
       "      <td>181,11</td>\n",
       "      <td>2028003</td>\n",
       "    </tr>\n",
       "    <tr>\n",
       "      <th>26047</th>\n",
       "      <td>2015</td>\n",
       "      <td>12</td>\n",
       "      <td>ZEZÉ PERRELLA</td>\n",
       "      <td>Locomoção, hospedagem, alimentação, combustíve...</td>\n",
       "      <td>07.642.352/0001-90</td>\n",
       "      <td>União Frota Car Aluguel de Veiculos Ltda</td>\n",
       "      <td>SEM FATURA</td>\n",
       "      <td>29/01/2016</td>\n",
       "      <td>NaN</td>\n",
       "      <td>4800</td>\n",
       "      <td>2032655</td>\n",
       "    </tr>\n",
       "    <tr>\n",
       "      <th>26048</th>\n",
       "      <td>2015</td>\n",
       "      <td>12</td>\n",
       "      <td>ZEZÉ PERRELLA</td>\n",
       "      <td>Locomoção, hospedagem, alimentação, combustíve...</td>\n",
       "      <td>07.642.352/0001-90</td>\n",
       "      <td>União Frota Car Aluguel de Veiculos Ltda</td>\n",
       "      <td>SEM FATURA</td>\n",
       "      <td>29/01/2016</td>\n",
       "      <td>NaN</td>\n",
       "      <td>5000</td>\n",
       "      <td>2032654</td>\n",
       "    </tr>\n",
       "    <tr>\n",
       "      <th>26049</th>\n",
       "      <td>2015</td>\n",
       "      <td>12</td>\n",
       "      <td>ZEZÉ PERRELLA</td>\n",
       "      <td>Locomoção, hospedagem, alimentação, combustíve...</td>\n",
       "      <td>15.380.100/0001-68</td>\n",
       "      <td>Vila gastronomia ltda</td>\n",
       "      <td>SEM FATURA</td>\n",
       "      <td>16/12/2015</td>\n",
       "      <td>NaN</td>\n",
       "      <td>373,67</td>\n",
       "      <td>2028007</td>\n",
       "    </tr>\n",
       "    <tr>\n",
       "      <th>26050</th>\n",
       "      <td>2015</td>\n",
       "      <td>12</td>\n",
       "      <td>ZEZÉ PERRELLA</td>\n",
       "      <td>Locomoção, hospedagem, alimentação, combustíve...</td>\n",
       "      <td>03.193.318/0001-24</td>\n",
       "      <td>W.R. Simone Comercial Ltda</td>\n",
       "      <td>SEM FATURA</td>\n",
       "      <td>02/12/2015</td>\n",
       "      <td>NaN</td>\n",
       "      <td>100</td>\n",
       "      <td>2027990</td>\n",
       "    </tr>\n",
       "  </tbody>\n",
       "</table>\n",
       "<p>4053 rows × 11 columns</p>\n",
       "</div>"
      ],
      "text/plain": [
       "        ANO MES             SENADOR  \\\n",
       "0      2015   1        ACIR GURGACZ   \n",
       "439    2015   1  ALFREDO NASCIMENTO   \n",
       "440    2015   1  ALFREDO NASCIMENTO   \n",
       "879    2015   6         ALVARO DIAS   \n",
       "891    2015   8         ALVARO DIAS   \n",
       "...     ...  ..                 ...   \n",
       "26046  2015  12       ZEZÉ PERRELLA   \n",
       "26047  2015  12       ZEZÉ PERRELLA   \n",
       "26048  2015  12       ZEZÉ PERRELLA   \n",
       "26049  2015  12       ZEZÉ PERRELLA   \n",
       "26050  2015  12       ZEZÉ PERRELLA   \n",
       "\n",
       "                                            TIPO_DESPESA            CNPJ_CPF  \\\n",
       "0      Aluguel de imóveis para escritório político, c...  05.914.650/0001-66   \n",
       "439    Aluguel de imóveis para escritório político, c...      023.211.571-00   \n",
       "440    Aluguel de imóveis para escritório político, c...  00.108.786/0001-65   \n",
       "879    Locomoção, hospedagem, alimentação, combustíve...  07.686.368/0001-02   \n",
       "891    Locomoção, hospedagem, alimentação, combustíve...  16.978.175/0001-08   \n",
       "...                                                  ...                 ...   \n",
       "26046  Locomoção, hospedagem, alimentação, combustíve...  00.911.117/0001-27   \n",
       "26047  Locomoção, hospedagem, alimentação, combustíve...  07.642.352/0001-90   \n",
       "26048  Locomoção, hospedagem, alimentação, combustíve...  07.642.352/0001-90   \n",
       "26049  Locomoção, hospedagem, alimentação, combustíve...  15.380.100/0001-68   \n",
       "26050  Locomoção, hospedagem, alimentação, combustíve...  03.193.318/0001-24   \n",
       "\n",
       "                                     FORNECEDOR   DOCUMENTO        DATA  \\\n",
       "0                                      ENERGISA  SEM FATURA  14/01/2015   \n",
       "439               Gilberto Assunção de Oliveira  SEM FATURA  05/01/2015   \n",
       "440                                         Net  SEM FATURA  05/01/2015   \n",
       "879                              WTC - Sheraton  SEM FATURA  24/06/2015   \n",
       "891                     Ádria Viagens e Turismo  SEM FATURA  01/09/2015   \n",
       "...                                         ...         ...         ...   \n",
       "26046                  Sulamita Naves de Aguiar  SEM FATURA  13/12/2015   \n",
       "26047  União Frota Car Aluguel de Veiculos Ltda  SEM FATURA  29/01/2016   \n",
       "26048  União Frota Car Aluguel de Veiculos Ltda  SEM FATURA  29/01/2016   \n",
       "26049                     Vila gastronomia ltda  SEM FATURA  16/12/2015   \n",
       "26050                W.R. Simone Comercial Ltda  SEM FATURA  02/12/2015   \n",
       "\n",
       "      DETALHAMENTO VALOR_REEMBOLSADO COD_DOCUMENTO  \n",
       "0              NaN             52,34       2000857  \n",
       "439            NaN              3420       2000792  \n",
       "440            NaN            307,74       2000796  \n",
       "879            NaN            506,61       2011576  \n",
       "891            NaN               385       2017062  \n",
       "...            ...               ...           ...  \n",
       "26046          NaN            181,11       2028003  \n",
       "26047          NaN              4800       2032655  \n",
       "26048          NaN              5000       2032654  \n",
       "26049          NaN            373,67       2028007  \n",
       "26050          NaN               100       2027990  \n",
       "\n",
       "[4053 rows x 11 columns]"
      ]
     },
     "execution_count": 16,
     "metadata": {},
     "output_type": "execute_result"
    }
   ],
   "source": [
    "df[df['DETALHAMENTO'].isna()]"
   ]
  },
  {
   "cell_type": "markdown",
   "metadata": {},
   "source": [
    "Como a princípio não temos mecanismos para saber a razão de o campo estar vazio e como não dispomos da informação que deveria preencher o campo. Sendo assim, uma alternativa viável é trocar os `NaN` por \"Dado ausente ou não informado\". Na célula de código abaixo faremos essa alteração."
   ]
  },
  {
   "cell_type": "code",
   "execution_count": 17,
   "metadata": {},
   "outputs": [],
   "source": [
    "df['DETALHAMENTO'].fillna(value = \"Dado ausente ou não informado\", inplace = True)"
   ]
  },
  {
   "cell_type": "code",
   "execution_count": 18,
   "metadata": {},
   "outputs": [
    {
     "data": {
      "text/plain": [
       "0"
      ]
     },
     "execution_count": 18,
     "metadata": {},
     "output_type": "execute_result"
    }
   ],
   "source": [
    "df['DATA'].isna().sum()"
   ]
  },
  {
   "cell_type": "code",
   "execution_count": 19,
   "metadata": {},
   "outputs": [
    {
     "data": {
      "text/html": [
       "<div>\n",
       "<style scoped>\n",
       "    .dataframe tbody tr th:only-of-type {\n",
       "        vertical-align: middle;\n",
       "    }\n",
       "\n",
       "    .dataframe tbody tr th {\n",
       "        vertical-align: top;\n",
       "    }\n",
       "\n",
       "    .dataframe thead th {\n",
       "        text-align: right;\n",
       "    }\n",
       "</style>\n",
       "<table border=\"1\" class=\"dataframe\">\n",
       "  <thead>\n",
       "    <tr style=\"text-align: right;\">\n",
       "      <th></th>\n",
       "      <th>ANO</th>\n",
       "      <th>MES</th>\n",
       "      <th>SENADOR</th>\n",
       "      <th>TIPO_DESPESA</th>\n",
       "      <th>CNPJ_CPF</th>\n",
       "      <th>FORNECEDOR</th>\n",
       "      <th>DOCUMENTO</th>\n",
       "      <th>DATA</th>\n",
       "      <th>DETALHAMENTO</th>\n",
       "      <th>VALOR_REEMBOLSADO</th>\n",
       "      <th>COD_DOCUMENTO</th>\n",
       "    </tr>\n",
       "  </thead>\n",
       "  <tbody>\n",
       "    <tr>\n",
       "      <th>0</th>\n",
       "      <td>2015</td>\n",
       "      <td>1</td>\n",
       "      <td>ACIR GURGACZ</td>\n",
       "      <td>Aluguel de imóveis para escritório político, c...</td>\n",
       "      <td>05.914.650/0001-66</td>\n",
       "      <td>ENERGISA</td>\n",
       "      <td>SEM FATURA</td>\n",
       "      <td>14/01/2015</td>\n",
       "      <td>Dado ausente ou não informado</td>\n",
       "      <td>52,34</td>\n",
       "      <td>2000857</td>\n",
       "    </tr>\n",
       "    <tr>\n",
       "      <th>1</th>\n",
       "      <td>2015</td>\n",
       "      <td>1</td>\n",
       "      <td>ACIR GURGACZ</td>\n",
       "      <td>Aluguel de imóveis para escritório político, c...</td>\n",
       "      <td>05.914.650/0001-66</td>\n",
       "      <td>ENERGISA</td>\n",
       "      <td>SEM FATURA</td>\n",
       "      <td>18/01/2015</td>\n",
       "      <td>Despesa com pagamento de energia elétrica para...</td>\n",
       "      <td>168,17</td>\n",
       "      <td>2001140</td>\n",
       "    </tr>\n",
       "    <tr>\n",
       "      <th>2</th>\n",
       "      <td>2015</td>\n",
       "      <td>1</td>\n",
       "      <td>ACIR GURGACZ</td>\n",
       "      <td>Aluguel de imóveis para escritório político, c...</td>\n",
       "      <td>004.948.028-63</td>\n",
       "      <td>GILBERTO PISELO DO NASCIMENTO</td>\n",
       "      <td>SEM FATURA</td>\n",
       "      <td>30/01/2015</td>\n",
       "      <td>Despesa com pagamento de aluguel de imóvel par...</td>\n",
       "      <td>5000</td>\n",
       "      <td>2001144</td>\n",
       "    </tr>\n",
       "    <tr>\n",
       "      <th>3</th>\n",
       "      <td>2015</td>\n",
       "      <td>1</td>\n",
       "      <td>ACIR GURGACZ</td>\n",
       "      <td>Aluguel de imóveis para escritório político, c...</td>\n",
       "      <td>05.423.963/0001-11</td>\n",
       "      <td>OI MÓVEL S.A.</td>\n",
       "      <td>SEM FATURA</td>\n",
       "      <td>19/01/2015</td>\n",
       "      <td>Despesa com pagamento de telefonia para uso do...</td>\n",
       "      <td>416,95</td>\n",
       "      <td>2001141</td>\n",
       "    </tr>\n",
       "    <tr>\n",
       "      <th>4</th>\n",
       "      <td>2015</td>\n",
       "      <td>1</td>\n",
       "      <td>ACIR GURGACZ</td>\n",
       "      <td>Aquisição de material de consumo para uso no e...</td>\n",
       "      <td>07.170.542/0001-51</td>\n",
       "      <td>INK JET INFORMATICA E PAPELARIA LTDA EPP</td>\n",
       "      <td>SEM FATURA</td>\n",
       "      <td>09/01/2015</td>\n",
       "      <td>Despesa com material de consumo para uso do es...</td>\n",
       "      <td>108,5</td>\n",
       "      <td>2001139</td>\n",
       "    </tr>\n",
       "  </tbody>\n",
       "</table>\n",
       "</div>"
      ],
      "text/plain": [
       "    ANO MES       SENADOR                                       TIPO_DESPESA  \\\n",
       "0  2015   1  ACIR GURGACZ  Aluguel de imóveis para escritório político, c...   \n",
       "1  2015   1  ACIR GURGACZ  Aluguel de imóveis para escritório político, c...   \n",
       "2  2015   1  ACIR GURGACZ  Aluguel de imóveis para escritório político, c...   \n",
       "3  2015   1  ACIR GURGACZ  Aluguel de imóveis para escritório político, c...   \n",
       "4  2015   1  ACIR GURGACZ  Aquisição de material de consumo para uso no e...   \n",
       "\n",
       "             CNPJ_CPF                                FORNECEDOR   DOCUMENTO  \\\n",
       "0  05.914.650/0001-66                                  ENERGISA  SEM FATURA   \n",
       "1  05.914.650/0001-66                                  ENERGISA  SEM FATURA   \n",
       "2      004.948.028-63             GILBERTO PISELO DO NASCIMENTO  SEM FATURA   \n",
       "3  05.423.963/0001-11                             OI MÓVEL S.A.  SEM FATURA   \n",
       "4  07.170.542/0001-51  INK JET INFORMATICA E PAPELARIA LTDA EPP  SEM FATURA   \n",
       "\n",
       "         DATA                                       DETALHAMENTO  \\\n",
       "0  14/01/2015                      Dado ausente ou não informado   \n",
       "1  18/01/2015  Despesa com pagamento de energia elétrica para...   \n",
       "2  30/01/2015  Despesa com pagamento de aluguel de imóvel par...   \n",
       "3  19/01/2015  Despesa com pagamento de telefonia para uso do...   \n",
       "4  09/01/2015  Despesa com material de consumo para uso do es...   \n",
       "\n",
       "  VALOR_REEMBOLSADO COD_DOCUMENTO  \n",
       "0             52,34       2000857  \n",
       "1            168,17       2001140  \n",
       "2              5000       2001144  \n",
       "3            416,95       2001141  \n",
       "4             108,5       2001139  "
      ]
     },
     "execution_count": 19,
     "metadata": {},
     "output_type": "execute_result"
    }
   ],
   "source": [
    "df.head()"
   ]
  },
  {
   "cell_type": "markdown",
   "metadata": {},
   "source": [
    "Agora que os campos incosistentes e ausentes foram tratados, é possível começar a pensar na troca do tipo de dado das colunas em que essa ação é necessária, como no caso da coluna VALOR_REEMBOLSADO, uma vez que os dados presentes nela correspondem a valores monetários, sendo assim representam dados numéricos que podem ter até duas casas decimais. Para realizar essa mudança de tipo de dado, se faz necessário executar os comandos presentes na célula de código abaixo."
   ]
  },
  {
   "cell_type": "code",
   "execution_count": 20,
   "metadata": {},
   "outputs": [
    {
     "data": {
      "text/plain": [
       "dtype('float64')"
      ]
     },
     "execution_count": 20,
     "metadata": {},
     "output_type": "execute_result"
    }
   ],
   "source": [
    "df['VALOR_REEMBOLSADO'] = df['VALOR_REEMBOLSADO'].str.replace(\",\", \".\")\n",
    "df['VALOR_REEMBOLSADO'] = df['VALOR_REEMBOLSADO'].astype(float)\n",
    "df.VALOR_REEMBOLSADO.dtype"
   ]
  },
  {
   "cell_type": "markdown",
   "metadata": {},
   "source": [
    "Convertendo o mês e o ano para `int`."
   ]
  },
  {
   "cell_type": "code",
   "execution_count": 21,
   "metadata": {},
   "outputs": [],
   "source": [
    "df['ANO'] = df['ANO'].astype(int)\n",
    "df['MES'] = df['MES'].astype(int)"
   ]
  },
  {
   "cell_type": "code",
   "execution_count": 22,
   "metadata": {},
   "outputs": [
    {
     "name": "stdout",
     "output_type": "stream",
     "text": [
      "<class 'pandas.core.frame.DataFrame'>\n",
      "RangeIndex: 26056 entries, 0 to 26055\n",
      "Data columns (total 11 columns):\n",
      " #   Column             Non-Null Count  Dtype  \n",
      "---  ------             --------------  -----  \n",
      " 0   ANO                26056 non-null  int32  \n",
      " 1   MES                26056 non-null  int32  \n",
      " 2   SENADOR            26056 non-null  object \n",
      " 3   TIPO_DESPESA       26056 non-null  object \n",
      " 4   CNPJ_CPF           26056 non-null  object \n",
      " 5   FORNECEDOR         26056 non-null  object \n",
      " 6   DOCUMENTO          26056 non-null  object \n",
      " 7   DATA               26056 non-null  object \n",
      " 8   DETALHAMENTO       26056 non-null  object \n",
      " 9   VALOR_REEMBOLSADO  26056 non-null  float64\n",
      " 10  COD_DOCUMENTO      26056 non-null  object \n",
      "dtypes: float64(1), int32(2), object(8)\n",
      "memory usage: 2.0+ MB\n"
     ]
    }
   ],
   "source": [
    "df.info()"
   ]
  },
  {
   "cell_type": "code",
   "execution_count": 23,
   "metadata": {},
   "outputs": [
    {
     "data": {
      "text/html": [
       "<div>\n",
       "<style scoped>\n",
       "    .dataframe tbody tr th:only-of-type {\n",
       "        vertical-align: middle;\n",
       "    }\n",
       "\n",
       "    .dataframe tbody tr th {\n",
       "        vertical-align: top;\n",
       "    }\n",
       "\n",
       "    .dataframe thead th {\n",
       "        text-align: right;\n",
       "    }\n",
       "</style>\n",
       "<table border=\"1\" class=\"dataframe\">\n",
       "  <thead>\n",
       "    <tr style=\"text-align: right;\">\n",
       "      <th></th>\n",
       "      <th>ANO</th>\n",
       "      <th>MES</th>\n",
       "      <th>SENADOR</th>\n",
       "      <th>TIPO_DESPESA</th>\n",
       "      <th>CNPJ_CPF</th>\n",
       "      <th>FORNECEDOR</th>\n",
       "      <th>DOCUMENTO</th>\n",
       "      <th>DATA</th>\n",
       "      <th>DETALHAMENTO</th>\n",
       "      <th>VALOR_REEMBOLSADO</th>\n",
       "      <th>COD_DOCUMENTO</th>\n",
       "    </tr>\n",
       "  </thead>\n",
       "  <tbody>\n",
       "    <tr>\n",
       "      <th>0</th>\n",
       "      <td>2015</td>\n",
       "      <td>1</td>\n",
       "      <td>ACIR GURGACZ</td>\n",
       "      <td>Aluguel de imóveis para escritório político, c...</td>\n",
       "      <td>05.914.650/0001-66</td>\n",
       "      <td>ENERGISA</td>\n",
       "      <td>SEM FATURA</td>\n",
       "      <td>14/01/2015</td>\n",
       "      <td>Dado ausente ou não informado</td>\n",
       "      <td>52.34</td>\n",
       "      <td>2000857</td>\n",
       "    </tr>\n",
       "    <tr>\n",
       "      <th>1</th>\n",
       "      <td>2015</td>\n",
       "      <td>1</td>\n",
       "      <td>ACIR GURGACZ</td>\n",
       "      <td>Aluguel de imóveis para escritório político, c...</td>\n",
       "      <td>05.914.650/0001-66</td>\n",
       "      <td>ENERGISA</td>\n",
       "      <td>SEM FATURA</td>\n",
       "      <td>18/01/2015</td>\n",
       "      <td>Despesa com pagamento de energia elétrica para...</td>\n",
       "      <td>168.17</td>\n",
       "      <td>2001140</td>\n",
       "    </tr>\n",
       "    <tr>\n",
       "      <th>2</th>\n",
       "      <td>2015</td>\n",
       "      <td>1</td>\n",
       "      <td>ACIR GURGACZ</td>\n",
       "      <td>Aluguel de imóveis para escritório político, c...</td>\n",
       "      <td>004.948.028-63</td>\n",
       "      <td>GILBERTO PISELO DO NASCIMENTO</td>\n",
       "      <td>SEM FATURA</td>\n",
       "      <td>30/01/2015</td>\n",
       "      <td>Despesa com pagamento de aluguel de imóvel par...</td>\n",
       "      <td>5000.00</td>\n",
       "      <td>2001144</td>\n",
       "    </tr>\n",
       "    <tr>\n",
       "      <th>3</th>\n",
       "      <td>2015</td>\n",
       "      <td>1</td>\n",
       "      <td>ACIR GURGACZ</td>\n",
       "      <td>Aluguel de imóveis para escritório político, c...</td>\n",
       "      <td>05.423.963/0001-11</td>\n",
       "      <td>OI MÓVEL S.A.</td>\n",
       "      <td>SEM FATURA</td>\n",
       "      <td>19/01/2015</td>\n",
       "      <td>Despesa com pagamento de telefonia para uso do...</td>\n",
       "      <td>416.95</td>\n",
       "      <td>2001141</td>\n",
       "    </tr>\n",
       "    <tr>\n",
       "      <th>4</th>\n",
       "      <td>2015</td>\n",
       "      <td>1</td>\n",
       "      <td>ACIR GURGACZ</td>\n",
       "      <td>Aquisição de material de consumo para uso no e...</td>\n",
       "      <td>07.170.542/0001-51</td>\n",
       "      <td>INK JET INFORMATICA E PAPELARIA LTDA EPP</td>\n",
       "      <td>SEM FATURA</td>\n",
       "      <td>09/01/2015</td>\n",
       "      <td>Despesa com material de consumo para uso do es...</td>\n",
       "      <td>108.50</td>\n",
       "      <td>2001139</td>\n",
       "    </tr>\n",
       "  </tbody>\n",
       "</table>\n",
       "</div>"
      ],
      "text/plain": [
       "    ANO  MES       SENADOR                                       TIPO_DESPESA  \\\n",
       "0  2015    1  ACIR GURGACZ  Aluguel de imóveis para escritório político, c...   \n",
       "1  2015    1  ACIR GURGACZ  Aluguel de imóveis para escritório político, c...   \n",
       "2  2015    1  ACIR GURGACZ  Aluguel de imóveis para escritório político, c...   \n",
       "3  2015    1  ACIR GURGACZ  Aluguel de imóveis para escritório político, c...   \n",
       "4  2015    1  ACIR GURGACZ  Aquisição de material de consumo para uso no e...   \n",
       "\n",
       "             CNPJ_CPF                                FORNECEDOR   DOCUMENTO  \\\n",
       "0  05.914.650/0001-66                                  ENERGISA  SEM FATURA   \n",
       "1  05.914.650/0001-66                                  ENERGISA  SEM FATURA   \n",
       "2      004.948.028-63             GILBERTO PISELO DO NASCIMENTO  SEM FATURA   \n",
       "3  05.423.963/0001-11                             OI MÓVEL S.A.  SEM FATURA   \n",
       "4  07.170.542/0001-51  INK JET INFORMATICA E PAPELARIA LTDA EPP  SEM FATURA   \n",
       "\n",
       "         DATA                                       DETALHAMENTO  \\\n",
       "0  14/01/2015                      Dado ausente ou não informado   \n",
       "1  18/01/2015  Despesa com pagamento de energia elétrica para...   \n",
       "2  30/01/2015  Despesa com pagamento de aluguel de imóvel par...   \n",
       "3  19/01/2015  Despesa com pagamento de telefonia para uso do...   \n",
       "4  09/01/2015  Despesa com material de consumo para uso do es...   \n",
       "\n",
       "   VALOR_REEMBOLSADO COD_DOCUMENTO  \n",
       "0              52.34       2000857  \n",
       "1             168.17       2001140  \n",
       "2            5000.00       2001144  \n",
       "3             416.95       2001141  \n",
       "4             108.50       2001139  "
      ]
     },
     "execution_count": 23,
     "metadata": {},
     "output_type": "execute_result"
    }
   ],
   "source": [
    "df.head()"
   ]
  },
  {
   "cell_type": "markdown",
   "metadata": {},
   "source": [
    "Até aqui tudo parece certo com nosso `DataFrame`, mas se executarmos o comando `df['DATA'] = pd.to_datetime(df['DATA'])` para converter a coluna DATA para `datetime`, veremos que uma mensagem de erro aparecerá, isso porque existem datas incosistentes na coluna. Após algumas tentativas, é possível encontrar datas com o campo do ano incorreto, como por exemplo: 18/03/2105, 06/10/2195, 26/08/0201, 24/02/5015 e outras. Existem também algumas datas com o ano igual a 2014, 2016, 2017 e 2020, estas é preciso realizar uma análise mais profunda para investigar se não estão em transição de ano ou se foram lançadas posteriormente. Este segundo caso não vamos tratar e vamos considerar dado normal datas com ano entre 2014-2022, mas o primeiro parece claro que trata-se de erro de digitação, sendo assim devemos corrigí-los.\n",
    "\n",
    "Para identificar as linhas onde há problema na coluna DATA, vamos realizar um `for` loop para percorrer cada linha, pegar o campo DATA e dar um `split(\"/\")` para separar dia, mês e ano. Em seguida, vamos fazer outro `for` loop onde vamos analisar o ano obtido de cada linha do `for` anterior, caso eles sejam dados discrepantes serão adicionados a uma lista, nela encontraremos o `index` e a data \"splitada\".   "
   ]
  },
  {
   "cell_type": "code",
   "execution_count": 24,
   "metadata": {},
   "outputs": [],
   "source": [
    "dates_list = []\n",
    "\n",
    "for _, row in df.iterrows():\n",
    "    \n",
    "    dates_list.append(row['DATA'].split(\"/\"))\n",
    "    \n",
    "wrong_input_dates = []\n",
    "\n",
    "for index, date in enumerate(dates_list):\n",
    "    \n",
    "    if int(date[2]) > 2022:\n",
    "        \n",
    "        wrong_input_dates.append([index, date])\n",
    "        \n",
    "    if int(date[2]) < 2000:\n",
    "        \n",
    "        wrong_input_dates.append([index, date])"
   ]
  },
  {
   "cell_type": "markdown",
   "metadata": {},
   "source": [
    "Imprimindo a lista com os dados discrepantes."
   ]
  },
  {
   "cell_type": "code",
   "execution_count": 25,
   "metadata": {},
   "outputs": [
    {
     "data": {
      "text/plain": [
       "[[2791, ['18', '03', '2105']],\n",
       " [2981, ['25', '08', '2105']],\n",
       " [10358, ['06', '10', '2915']],\n",
       " [11826, ['26', '08', '0201']],\n",
       " [12179, ['24', '02', '5015']],\n",
       " [18561, ['22', '04', '0215']],\n",
       " [18565, ['23', '04', '0215']],\n",
       " [22642, ['07', '05', '2041']],\n",
       " [22662, ['02', '06', '2041']],\n",
       " [22966, ['08', '05', '5201']]]"
      ]
     },
     "execution_count": 25,
     "metadata": {},
     "output_type": "execute_result"
    }
   ],
   "source": [
    "wrong_input_dates"
   ]
  },
  {
   "cell_type": "markdown",
   "metadata": {},
   "source": [
    "No `for` loop abaixo ajustamos o ano e geramos a data correta."
   ]
  },
  {
   "cell_type": "code",
   "execution_count": 26,
   "metadata": {},
   "outputs": [],
   "source": [
    "corrected_dates = []\n",
    "\n",
    "for wrong_date in wrong_input_dates:\n",
    "    \n",
    "    date_string = f\"{wrong_date[1][0]}/{wrong_date[1][1]}/2015\"\n",
    "    corrected_dates.append([wrong_date[0], date_string])"
   ]
  },
  {
   "cell_type": "markdown",
   "metadata": {},
   "source": [
    "Imprimindo as datas corrigidas."
   ]
  },
  {
   "cell_type": "code",
   "execution_count": 27,
   "metadata": {},
   "outputs": [
    {
     "data": {
      "text/plain": [
       "[[2791, '18/03/2015'],\n",
       " [2981, '25/08/2015'],\n",
       " [10358, '06/10/2015'],\n",
       " [11826, '26/08/2015'],\n",
       " [12179, '24/02/2015'],\n",
       " [18561, '22/04/2015'],\n",
       " [18565, '23/04/2015'],\n",
       " [22642, '07/05/2015'],\n",
       " [22662, '02/06/2015'],\n",
       " [22966, '08/05/2015']]"
      ]
     },
     "execution_count": 27,
     "metadata": {},
     "output_type": "execute_result"
    }
   ],
   "source": [
    "corrected_dates"
   ]
  },
  {
   "cell_type": "markdown",
   "metadata": {},
   "source": [
    "Consertando os campos de data com erro."
   ]
  },
  {
   "cell_type": "code",
   "execution_count": 28,
   "metadata": {},
   "outputs": [],
   "source": [
    "for date in corrected_dates:\n",
    "    \n",
    "    df['DATA'][date[0]] = date[1]"
   ]
  },
  {
   "cell_type": "markdown",
   "metadata": {},
   "source": [
    "Tentando converter a coluna DATA para `datetime`."
   ]
  },
  {
   "cell_type": "code",
   "execution_count": 29,
   "metadata": {},
   "outputs": [],
   "source": [
    "df['DATA'] = pd.to_datetime(df['DATA'])"
   ]
  },
  {
   "cell_type": "markdown",
   "metadata": {},
   "source": [
    "Como não obtivemos um erro como resultado da execução da célula acima, parece que agora tudo está correto e estamos prontos para a etapa de análise dos dados."
   ]
  },
  {
   "cell_type": "code",
   "execution_count": 30,
   "metadata": {},
   "outputs": [
    {
     "data": {
      "text/plain": [
       "0       2015-01-14\n",
       "1       2015-01-18\n",
       "2       2015-01-30\n",
       "3       2015-01-19\n",
       "4       2015-09-01\n",
       "           ...    \n",
       "26051   2015-12-18\n",
       "26052   2015-11-12\n",
       "26053   2015-12-19\n",
       "26054   2015-12-24\n",
       "26055   2015-12-20\n",
       "Name: DATA, Length: 26056, dtype: datetime64[ns]"
      ]
     },
     "execution_count": 30,
     "metadata": {},
     "output_type": "execute_result"
    }
   ],
   "source": [
    "df['DATA']"
   ]
  },
  {
   "cell_type": "markdown",
   "metadata": {},
   "source": [
    "## Dia 2 - Análise exploratória de dados, visualização e storytelling"
   ]
  },
  {
   "cell_type": "markdown",
   "metadata": {},
   "source": [
    "A CEAP (Cota para Exercício da Atividade Parlamentar) é um valor extra, além de selário e benefícios, que os deputados federais e senadores possuem para gastar com despesas como comida, passagens de avião e combustível. Cada parlamentar tem direito a um gasto de até 44.000,00 reais por mês, ou seja, 528.000,00 reais no ano, considerando todo o parlamento federal brasileiro (513 deputados + 81 senadores), temos que o total para todos os membros do legislativo brasileiro pode chegar até 26.136.000,00 reais por mês e 313.632.000,00 reais por ano. Para que o parlamentar seja reembolsado, ele precisa usar seu dinheiro e depois enviar as notas fiscais dos gastos para a Câmara dos Deputados ou Senado Federal para receber o reembolso."
   ]
  },
  {
   "cell_type": "code",
   "execution_count": 31,
   "metadata": {},
   "outputs": [],
   "source": [
    "gasto_ativ_parlamentar_p_mes = 44000\n",
    "gasto_ativ_parlamentar_anual = gasto_ativ_parlamentar_p_mes * 12"
   ]
  },
  {
   "cell_type": "markdown",
   "metadata": {},
   "source": [
    "Quantos tipos de despesas são passíveis de reembolso?"
   ]
  },
  {
   "cell_type": "code",
   "execution_count": 32,
   "metadata": {},
   "outputs": [
    {
     "data": {
      "text/plain": [
       "7"
      ]
     },
     "execution_count": 32,
     "metadata": {},
     "output_type": "execute_result"
    }
   ],
   "source": [
    "len(df['TIPO_DESPESA'].unique())"
   ]
  },
  {
   "cell_type": "markdown",
   "metadata": {},
   "source": [
    "Quais são esses tipos?"
   ]
  },
  {
   "cell_type": "code",
   "execution_count": 33,
   "metadata": {},
   "outputs": [
    {
     "data": {
      "text/plain": [
       "array(['Aluguel de imóveis para escritório político, compreendendo despesas concernentes a eles.',\n",
       "       'Aquisição de material de consumo para uso no escritório político, inclusive aquisição ou locação de software, despesas postais, aquisição de publicações, locação de móveis e de equipamentos. ',\n",
       "       'Divulgação da atividade parlamentar',\n",
       "       'Locomoção, hospedagem, alimentação, combustíveis e lubrificantes',\n",
       "       'Passagens aéreas, aquáticas e terrestres nacionais',\n",
       "       'Contratação de consultorias, assessorias, pesquisas, trabalhos técnicos e outros serviços de apoio ao exercício do mandato parlamentar',\n",
       "       'Serviços de Segurança Privada'], dtype=object)"
      ]
     },
     "execution_count": 33,
     "metadata": {},
     "output_type": "execute_result"
    }
   ],
   "source": [
    "df['TIPO_DESPESA'].unique()"
   ]
  },
  {
   "cell_type": "markdown",
   "metadata": {},
   "source": [
    "Tipo de despesas passíveis de reembolso:\n",
    "\n",
    "1 - Aluguel de imóveis para escritório político, compreendendo despesas concernentes a eles.\n",
    "\n",
    "2 - Aquisição de material de consumo para uso no escritório político, inclusive aquisição ou locação de software, despesas postais, aquisição de publicações, locação de móveis e de equipamentos.\n",
    "\n",
    "3 - Divulgação da atividade parlamentar.\n",
    "\n",
    "4 - Locomoção, hospedagem, alimentação, combustíveis e lubrificantes.\n",
    "\n",
    "5 - Passagens aéreas, aquáticas e terrestres nacionais.\n",
    "\n",
    "6 - Contratação de consultorias, assessorias, pesquisas, trabalhos técnicos e outros serviços de apoio ao exercício do mandato parlamentar\n",
    "\n",
    "7 - Serviços de Segurança Privada"
   ]
  },
  {
   "cell_type": "code",
   "execution_count": 34,
   "metadata": {},
   "outputs": [],
   "source": [
    "tipo_gastos_dict = {f\"{index}\": descricao for index, descricao in enumerate(df['TIPO_DESPESA'].unique())}"
   ]
  },
  {
   "cell_type": "code",
   "execution_count": 35,
   "metadata": {},
   "outputs": [
    {
     "data": {
      "image/png": "[encoded data removed]",
      "text/plain": [
       "<Figure size 864x576 with 1 Axes>"
      ]
     },
     "metadata": {
      "needs_background": "light"
     },
     "output_type": "display_data"
    }
   ],
   "source": [
    "fig, ax = plt.subplots()\n",
    "\n",
    "ax = sns.barplot(y = [*tipo_gastos_dict.keys()], x = df.groupby('TIPO_DESPESA')['VALOR_REEMBOLSADO'].sum())\n",
    "ax.set_xlabel(\"Valor reembolsado (R$)\", fontsize = 15)\n",
    "ax.set_ylabel(\"Tipo de despesa\", fontsize = 15)\n",
    "ax.set_title(\"Gastos da cota por tipo de despesa em 2015\", fontsize = 20)\n",
    "fig.set_size_inches((12, 8))\n",
    "fig.savefig(\"figures\\gastos_da_cota_por_tipo_de_despesa_em_2015.png\")"
   ]
  },
  {
   "cell_type": "code",
   "execution_count": 36,
   "metadata": {},
   "outputs": [
    {
     "data": {
      "application/vnd.plotly.v1+json": {
       "config": {
        "linkText": "Export to plot.ly",
        "plotlyServerURL": "https://plot.ly",
        "showLink": false
       },
       "data": [
        {
         "name": "Tipo 1",
         "type": "bar",
         "x": [
          "Jan",
          "Fev",
          "Mar",
          "Abr",
          "Mai",
          "Jun",
          "Jul",
          "Ago",
          "Set",
          "Out",
          "Nov",
          "Dec"
         ],
         "y": [
          304049.34,
          43001.18,
          223627.18,
          142906.94,
          351555.92,
          345150.93,
          35531.189999999995,
          362253,
          52503.53,
          152815.15,
          137526.55,
          401864.56
         ]
        },
        {
         "name": "Tipo 2",
         "type": "bar",
         "x": [
          "Jan",
          "Fev",
          "Mar",
          "Abr",
          "Mai",
          "Jun",
          "Jul",
          "Ago",
          "Set",
          "Out",
          "Nov",
          "Dec"
         ],
         "y": [
          513658.95,
          42059.6,
          394529.74,
          70798.49,
          262005.74,
          160803.63,
          506690.3,
          717532.28,
          39153.78,
          407331.7,
          57273.88,
          283962.79
         ]
        },
        {
         "name": "Tipo 3",
         "type": "bar",
         "x": [
          "Jan",
          "Fev",
          "Mar",
          "Abr",
          "Mai",
          "Jun",
          "Jul",
          "Ago",
          "Set",
          "Out",
          "Nov",
          "Dec"
         ],
         "y": [
          265003.74,
          485658.44,
          558802.87,
          40644.60999999999,
          403176.89,
          72839.91,
          307891.21,
          233538.72,
          508356.56,
          614103.68,
          34738.27,
          423412.24
         ]
        },
        {
         "name": "Tipo 4",
         "type": "bar",
         "x": [
          "Jan",
          "Fev",
          "Mar",
          "Abr",
          "Mai",
          "Jun",
          "Jul",
          "Ago",
          "Set",
          "Out",
          "Nov",
          "Dec"
         ],
         "y": [
          60476.62,
          219191.24,
          218937.93,
          508125.97,
          579767.13,
          40889.34,
          402950.04,
          82734.75,
          234630.68,
          144660.95,
          514048.84,
          512892.77999999997
         ]
        },
        {
         "name": "Tipo 5",
         "type": "bar",
         "x": [
          "Jan",
          "Fev",
          "Mar",
          "Abr",
          "Mai",
          "Jun",
          "Jul",
          "Ago",
          "Set",
          "Out",
          "Nov",
          "Dec"
         ],
         "y": [
          41371.21,
          414843.5,
          65149.13,
          250382.83,
          192746.4,
          473566.09,
          691093.17,
          41084.82,
          403719.76,
          73717.43,
          277887.81,
          226026
         ]
        },
        {
         "name": "Tipo 6",
         "type": "bar",
         "x": [
          "Jan",
          "Fev",
          "Mar",
          "Abr",
          "Mai",
          "Jun",
          "Jul",
          "Ago",
          "Set",
          "Out",
          "Nov",
          "Dec"
         ],
         "y": [
          509574.62,
          672217.92,
          39654.35,
          415447.02,
          63820.4,
          316188.87,
          201173.5,
          451964.22,
          586083.92,
          40952.27,
          403373.77,
          77196.02
         ]
        },
        {
         "name": "Tipo 7",
         "type": "bar",
         "x": [
          "Jan",
          "Fev",
          "Mar",
          "Abr",
          "Mai",
          "Jun",
          "Jul",
          "Ago",
          "Set",
          "Out",
          "Nov",
          "Dec"
         ],
         "y": [
          268415.69,
          273034.74,
          475433.74,
          607696.52,
          34089.29,
          382717.63,
          88907.71,
          398509.16,
          1079935.15,
          417403.63,
          407513.89,
          21296.65
         ]
        }
       ],
       "layout": {
        "barmode": "stack",
        "template": {
         "data": {
          "bar": [
           {
            "error_x": {
             "color": "#2a3f5f"
            },
            "error_y": {
             "color": "#2a3f5f"
            },
            "marker": {
             "line": {
              "color": "#E5ECF6",
              "width": 0.5
             },
             "pattern": {
              "fillmode": "overlay",
              "size": 10,
              "solidity": 0.2
             }
            },
            "type": "bar"
           }
          ],
          "barpolar": [
           {
            "marker": {
             "line": {
              "color": "#E5ECF6",
              "width": 0.5
             },
             "pattern": {
              "fillmode": "overlay",
              "size": 10,
              "solidity": 0.2
             }
            },
            "type": "barpolar"
           }
          ],
          "carpet": [
           {
            "aaxis": {
             "endlinecolor": "#2a3f5f",
             "gridcolor": "white",
             "linecolor": "white",
             "minorgridcolor": "white",
             "startlinecolor": "#2a3f5f"
            },
            "baxis": {
             "endlinecolor": "#2a3f5f",
             "gridcolor": "white",
             "linecolor": "white",
             "minorgridcolor": "white",
             "startlinecolor": "#2a3f5f"
            },
            "type": "carpet"
           }
          ],
          "choropleth": [
           {
            "colorbar": {
             "outlinewidth": 0,
             "ticks": ""
            },
            "type": "choropleth"
           }
          ],
          "contour": [
           {
            "colorbar": {
             "outlinewidth": 0,
             "ticks": ""
            },
            "colorscale": [
             [
              0,
              "#0d0887"
             ],
             [
              0.1111111111111111,
              "#46039f"
             ],
             [
              0.2222222222222222,
              "#7201a8"
             ],
             [
              0.3333333333333333,
              "#9c179e"
             ],
             [
              0.4444444444444444,
              "#bd3786"
             ],
             [
              0.5555555555555556,
              "#d8576b"
             ],
             [
              0.6666666666666666,
              "#ed7953"
             ],
             [
              0.7777777777777778,
              "#fb9f3a"
             ],
             [
              0.8888888888888888,
              "#fdca26"
             ],
             [
              1,
              "#f0f921"
             ]
            ],
            "type": "contour"
           }
          ],
          "contourcarpet": [
           {
            "colorbar": {
             "outlinewidth": 0,
             "ticks": ""
            },
            "type": "contourcarpet"
           }
          ],
          "heatmap": [
           {
            "colorbar": {
             "outlinewidth": 0,
             "ticks": ""
            },
            "colorscale": [
             [
              0,
              "#0d0887"
             ],
             [
              0.1111111111111111,
              "#46039f"
             ],
             [
              0.2222222222222222,
              "#7201a8"
             ],
             [
              0.3333333333333333,
              "#9c179e"
             ],
             [
              0.4444444444444444,
              "#bd3786"
             ],
             [
              0.5555555555555556,
              "#d8576b"
             ],
             [
              0.6666666666666666,
              "#ed7953"
             ],
             [
              0.7777777777777778,
              "#fb9f3a"
             ],
             [
              0.8888888888888888,
              "#fdca26"
             ],
             [
              1,
              "#f0f921"
             ]
            ],
            "type": "heatmap"
           }
          ],
          "heatmapgl": [
           {
            "colorbar": {
             "outlinewidth": 0,
             "ticks": ""
            },
            "colorscale": [
             [
              0,
              "#0d0887"
             ],
             [
              0.1111111111111111,
              "#46039f"
             ],
             [
              0.2222222222222222,
              "#7201a8"
             ],
             [
              0.3333333333333333,
              "#9c179e"
             ],
             [
              0.4444444444444444,
              "#bd3786"
             ],
             [
              0.5555555555555556,
              "#d8576b"
             ],
             [
              0.6666666666666666,
              "#ed7953"
             ],
             [
              0.7777777777777778,
              "#fb9f3a"
             ],
             [
              0.8888888888888888,
              "#fdca26"
             ],
             [
              1,
              "#f0f921"
             ]
            ],
            "type": "heatmapgl"
           }
          ],
          "histogram": [
           {
            "marker": {
             "pattern": {
              "fillmode": "overlay",
              "size": 10,
              "solidity": 0.2
             }
            },
            "type": "histogram"
           }
          ],
          "histogram2d": [
           {
            "colorbar": {
             "outlinewidth": 0,
             "ticks": ""
            },
            "colorscale": [
             [
              0,
              "#0d0887"
             ],
             [
              0.1111111111111111,
              "#46039f"
             ],
             [
              0.2222222222222222,
              "#7201a8"
             ],
             [
              0.3333333333333333,
              "#9c179e"
             ],
             [
              0.4444444444444444,
              "#bd3786"
             ],
             [
              0.5555555555555556,
              "#d8576b"
             ],
             [
              0.6666666666666666,
              "#ed7953"
             ],
             [
              0.7777777777777778,
              "#fb9f3a"
             ],
             [
              0.8888888888888888,
              "#fdca26"
             ],
             [
              1,
              "#f0f921"
             ]
            ],
            "type": "histogram2d"
           }
          ],
          "histogram2dcontour": [
           {
            "colorbar": {
             "outlinewidth": 0,
             "ticks": ""
            },
            "colorscale": [
             [
              0,
              "#0d0887"
             ],
             [
              0.1111111111111111,
              "#46039f"
             ],
             [
              0.2222222222222222,
              "#7201a8"
             ],
             [
              0.3333333333333333,
              "#9c179e"
             ],
             [
              0.4444444444444444,
              "#bd3786"
             ],
             [
              0.5555555555555556,
              "#d8576b"
             ],
             [
              0.6666666666666666,
              "#ed7953"
             ],
             [
              0.7777777777777778,
              "#fb9f3a"
             ],
             [
              0.8888888888888888,
              "#fdca26"
             ],
             [
              1,
              "#f0f921"
             ]
            ],
            "type": "histogram2dcontour"
           }
          ],
          "mesh3d": [
           {
            "colorbar": {
             "outlinewidth": 0,
             "ticks": ""
            },
            "type": "mesh3d"
           }
          ],
          "parcoords": [
           {
            "line": {
             "colorbar": {
              "outlinewidth": 0,
              "ticks": ""
             }
            },
            "type": "parcoords"
           }
          ],
          "pie": [
           {
            "automargin": true,
            "type": "pie"
           }
          ],
          "scatter": [
           {
            "fillpattern": {
             "fillmode": "overlay",
             "size": 10,
             "solidity": 0.2
            },
            "type": "scatter"
           }
          ],
          "scatter3d": [
           {
            "line": {
             "colorbar": {
              "outlinewidth": 0,
              "ticks": ""
             }
            },
            "marker": {
             "colorbar": {
              "outlinewidth": 0,
              "ticks": ""
             }
            },
            "type": "scatter3d"
           }
          ],
          "scattercarpet": [
           {
            "marker": {
             "colorbar": {
              "outlinewidth": 0,
              "ticks": ""
             }
            },
            "type": "scattercarpet"
           }
          ],
          "scattergeo": [
           {
            "marker": {
             "colorbar": {
              "outlinewidth": 0,
              "ticks": ""
             }
            },
            "type": "scattergeo"
           }
          ],
          "scattergl": [
           {
            "marker": {
             "colorbar": {
              "outlinewidth": 0,
              "ticks": ""
             }
            },
            "type": "scattergl"
           }
          ],
          "scattermapbox": [
           {
            "marker": {
             "colorbar": {
              "outlinewidth": 0,
              "ticks": ""
             }
            },
            "type": "scattermapbox"
           }
          ],
          "scatterpolar": [
           {
            "marker": {
             "colorbar": {
              "outlinewidth": 0,
              "ticks": ""
             }
            },
            "type": "scatterpolar"
           }
          ],
          "scatterpolargl": [
           {
            "marker": {
             "colorbar": {
              "outlinewidth": 0,
              "ticks": ""
             }
            },
            "type": "scatterpolargl"
           }
          ],
          "scatterternary": [
           {
            "marker": {
             "colorbar": {
              "outlinewidth": 0,
              "ticks": ""
             }
            },
            "type": "scatterternary"
           }
          ],
          "surface": [
           {
            "colorbar": {
             "outlinewidth": 0,
             "ticks": ""
            },
            "colorscale": [
             [
              0,
              "#0d0887"
             ],
             [
              0.1111111111111111,
              "#46039f"
             ],
             [
              0.2222222222222222,
              "#7201a8"
             ],
             [
              0.3333333333333333,
              "#9c179e"
             ],
             [
              0.4444444444444444,
              "#bd3786"
             ],
             [
              0.5555555555555556,
              "#d8576b"
             ],
             [
              0.6666666666666666,
              "#ed7953"
             ],
             [
              0.7777777777777778,
              "#fb9f3a"
             ],
             [
              0.8888888888888888,
              "#fdca26"
             ],
             [
              1,
              "#f0f921"
             ]
            ],
            "type": "surface"
           }
          ],
          "table": [
           {
            "cells": {
             "fill": {
              "color": "#EBF0F8"
             },
             "line": {
              "color": "white"
             }
            },
            "header": {
             "fill": {
              "color": "#C8D4E3"
             },
             "line": {
              "color": "white"
             }
            },
            "type": "table"
           }
          ]
         },
         "layout": {
          "annotationdefaults": {
           "arrowcolor": "#2a3f5f",
           "arrowhead": 0,
           "arrowwidth": 1
          },
          "autotypenumbers": "strict",
          "coloraxis": {
           "colorbar": {
            "outlinewidth": 0,
            "ticks": ""
           }
          },
          "colorscale": {
           "diverging": [
            [
             0,
             "#8e0152"
            ],
            [
             0.1,
             "#c51b7d"
            ],
            [
             0.2,
             "#de77ae"
            ],
            [
             0.3,
             "#f1b6da"
            ],
            [
             0.4,
             "#fde0ef"
            ],
            [
             0.5,
             "#f7f7f7"
            ],
            [
             0.6,
             "#e6f5d0"
            ],
            [
             0.7,
             "#b8e186"
            ],
            [
             0.8,
             "#7fbc41"
            ],
            [
             0.9,
             "#4d9221"
            ],
            [
             1,
             "#276419"
            ]
           ],
           "sequential": [
            [
             0,
             "#0d0887"
            ],
            [
             0.1111111111111111,
             "#46039f"
            ],
            [
             0.2222222222222222,
             "#7201a8"
            ],
            [
             0.3333333333333333,
             "#9c179e"
            ],
            [
             0.4444444444444444,
             "#bd3786"
            ],
            [
             0.5555555555555556,
             "#d8576b"
            ],
            [
             0.6666666666666666,
             "#ed7953"
            ],
            [
             0.7777777777777778,
             "#fb9f3a"
            ],
            [
             0.8888888888888888,
             "#fdca26"
            ],
            [
             1,
             "#f0f921"
            ]
           ],
           "sequentialminus": [
            [
             0,
             "#0d0887"
            ],
            [
             0.1111111111111111,
             "#46039f"
            ],
            [
             0.2222222222222222,
             "#7201a8"
            ],
            [
             0.3333333333333333,
             "#9c179e"
            ],
            [
             0.4444444444444444,
             "#bd3786"
            ],
            [
             0.5555555555555556,
             "#d8576b"
            ],
            [
             0.6666666666666666,
             "#ed7953"
            ],
            [
             0.7777777777777778,
             "#fb9f3a"
            ],
            [
             0.8888888888888888,
             "#fdca26"
            ],
            [
             1,
             "#f0f921"
            ]
           ]
          },
          "colorway": [
           "#636efa",
           "#EF553B",
           "#00cc96",
           "#ab63fa",
           "#FFA15A",
           "#19d3f3",
           "#FF6692",
           "#B6E880",
           "#FF97FF",
           "#FECB52"
          ],
          "font": {
           "color": "#2a3f5f"
          },
          "geo": {
           "bgcolor": "white",
           "lakecolor": "white",
           "landcolor": "#E5ECF6",
           "showlakes": true,
           "showland": true,
           "subunitcolor": "white"
          },
          "hoverlabel": {
           "align": "left"
          },
          "hovermode": "closest",
          "mapbox": {
           "style": "light"
          },
          "paper_bgcolor": "white",
          "plot_bgcolor": "#E5ECF6",
          "polar": {
           "angularaxis": {
            "gridcolor": "white",
            "linecolor": "white",
            "ticks": ""
           },
           "bgcolor": "#E5ECF6",
           "radialaxis": {
            "gridcolor": "white",
            "linecolor": "white",
            "ticks": ""
           }
          },
          "scene": {
           "xaxis": {
            "backgroundcolor": "#E5ECF6",
            "gridcolor": "white",
            "gridwidth": 2,
            "linecolor": "white",
            "showbackground": true,
            "ticks": "",
            "zerolinecolor": "white"
           },
           "yaxis": {
            "backgroundcolor": "#E5ECF6",
            "gridcolor": "white",
            "gridwidth": 2,
            "linecolor": "white",
            "showbackground": true,
            "ticks": "",
            "zerolinecolor": "white"
           },
           "zaxis": {
            "backgroundcolor": "#E5ECF6",
            "gridcolor": "white",
            "gridwidth": 2,
            "linecolor": "white",
            "showbackground": true,
            "ticks": "",
            "zerolinecolor": "white"
           }
          },
          "shapedefaults": {
           "line": {
            "color": "#2a3f5f"
           }
          },
          "ternary": {
           "aaxis": {
            "gridcolor": "white",
            "linecolor": "white",
            "ticks": ""
           },
           "baxis": {
            "gridcolor": "white",
            "linecolor": "white",
            "ticks": ""
           },
           "bgcolor": "#E5ECF6",
           "caxis": {
            "gridcolor": "white",
            "linecolor": "white",
            "ticks": ""
           }
          },
          "title": {
           "x": 0.05
          },
          "xaxis": {
           "automargin": true,
           "gridcolor": "white",
           "linecolor": "white",
           "ticks": "",
           "title": {
            "standoff": 15
           },
           "zerolinecolor": "white",
           "zerolinewidth": 2
          },
          "yaxis": {
           "automargin": true,
           "gridcolor": "white",
           "linecolor": "white",
           "ticks": "",
           "title": {
            "standoff": 15
           },
           "zerolinecolor": "white",
           "zerolinewidth": 2
          }
         }
        },
        "title": {
         "text": "Evolução do valor total de reembolsos pagos por mês aos senadores por tipo de gasto no ano de 2015"
        },
        "xaxis": {
         "title": {
          "text": "Mês"
         }
        },
        "yaxis": {
         "title": {
          "text": "Valor total dos reembolsos (R$)"
         }
        }
       }
      },
      "text/html": [
       "<div>                            <div id=\"77bbfedb-3c39-42f4-a4d8-3e11a643fa21\" class=\"plotly-graph-div\" style=\"height:525px; width:100%;\"></div>            <script type=\"text/javascript\">                require([\"plotly\"], function(Plotly) {                    window.PLOTLYENV=window.PLOTLYENV || {};                                    if (document.getElementById(\"77bbfedb-3c39-42f4-a4d8-3e11a643fa21\")) {                    Plotly.newPlot(                        \"77bbfedb-3c39-42f4-a4d8-3e11a643fa21\",                        [{\"name\":\"Tipo 1\",\"x\":[\"Jan\",\"Fev\",\"Mar\",\"Abr\",\"Mai\",\"Jun\",\"Jul\",\"Ago\",\"Set\",\"Out\",\"Nov\",\"Dec\"],\"y\":[304049.34,43001.18,223627.18,142906.94,351555.92,345150.93,35531.189999999995,362253.0,52503.53,152815.15,137526.55,401864.56],\"type\":\"bar\"},{\"name\":\"Tipo 2\",\"x\":[\"Jan\",\"Fev\",\"Mar\",\"Abr\",\"Mai\",\"Jun\",\"Jul\",\"Ago\",\"Set\",\"Out\",\"Nov\",\"Dec\"],\"y\":[513658.95,42059.6,394529.74,70798.49,262005.74,160803.63,506690.3,717532.28,39153.78,407331.7,57273.88,283962.79],\"type\":\"bar\"},{\"name\":\"Tipo 3\",\"x\":[\"Jan\",\"Fev\",\"Mar\",\"Abr\",\"Mai\",\"Jun\",\"Jul\",\"Ago\",\"Set\",\"Out\",\"Nov\",\"Dec\"],\"y\":[265003.74,485658.44,558802.87,40644.60999999999,403176.89,72839.91,307891.21,233538.72,508356.56,614103.68,34738.27,423412.24],\"type\":\"bar\"},{\"name\":\"Tipo 4\",\"x\":[\"Jan\",\"Fev\",\"Mar\",\"Abr\",\"Mai\",\"Jun\",\"Jul\",\"Ago\",\"Set\",\"Out\",\"Nov\",\"Dec\"],\"y\":[60476.62,219191.24,218937.93,508125.97,579767.13,40889.34,402950.04,82734.75,234630.68,144660.95,514048.84,512892.77999999997],\"type\":\"bar\"},{\"name\":\"Tipo 5\",\"x\":[\"Jan\",\"Fev\",\"Mar\",\"Abr\",\"Mai\",\"Jun\",\"Jul\",\"Ago\",\"Set\",\"Out\",\"Nov\",\"Dec\"],\"y\":[41371.21,414843.5,65149.13,250382.83,192746.4,473566.09,691093.17,41084.82,403719.76,73717.43,277887.81,226026.0],\"type\":\"bar\"},{\"name\":\"Tipo 6\",\"x\":[\"Jan\",\"Fev\",\"Mar\",\"Abr\",\"Mai\",\"Jun\",\"Jul\",\"Ago\",\"Set\",\"Out\",\"Nov\",\"Dec\"],\"y\":[509574.62,672217.92,39654.35,415447.02,63820.4,316188.87,201173.5,451964.22,586083.92,40952.27,403373.77,77196.02],\"type\":\"bar\"},{\"name\":\"Tipo 7\",\"x\":[\"Jan\",\"Fev\",\"Mar\",\"Abr\",\"Mai\",\"Jun\",\"Jul\",\"Ago\",\"Set\",\"Out\",\"Nov\",\"Dec\"],\"y\":[268415.69,273034.74,475433.74,607696.52,34089.29,382717.63,88907.71,398509.16,1079935.15,417403.63,407513.89,21296.65],\"type\":\"bar\"}],                        {\"barmode\":\"stack\",\"template\":{\"data\":{\"barpolar\":[{\"marker\":{\"line\":{\"color\":\"#E5ECF6\",\"width\":0.5},\"pattern\":{\"fillmode\":\"overlay\",\"size\":10,\"solidity\":0.2}},\"type\":\"barpolar\"}],\"bar\":[{\"error_x\":{\"color\":\"#2a3f5f\"},\"error_y\":{\"color\":\"#2a3f5f\"},\"marker\":{\"line\":{\"color\":\"#E5ECF6\",\"width\":0.5},\"pattern\":{\"fillmode\":\"overlay\",\"size\":10,\"solidity\":0.2}},\"type\":\"bar\"}],\"carpet\":[{\"aaxis\":{\"endlinecolor\":\"#2a3f5f\",\"gridcolor\":\"white\",\"linecolor\":\"white\",\"minorgridcolor\":\"white\",\"startlinecolor\":\"#2a3f5f\"},\"baxis\":{\"endlinecolor\":\"#2a3f5f\",\"gridcolor\":\"white\",\"linecolor\":\"white\",\"minorgridcolor\":\"white\",\"startlinecolor\":\"#2a3f5f\"},\"type\":\"carpet\"}],\"choropleth\":[{\"colorbar\":{\"outlinewidth\":0,\"ticks\":\"\"},\"type\":\"choropleth\"}],\"contourcarpet\":[{\"colorbar\":{\"outlinewidth\":0,\"ticks\":\"\"},\"type\":\"contourcarpet\"}],\"contour\":[{\"colorbar\":{\"outlinewidth\":0,\"ticks\":\"\"},\"colorscale\":[[0.0,\"#0d0887\"],[0.1111111111111111,\"#46039f\"],[0.2222222222222222,\"#7201a8\"],[0.3333333333333333,\"#9c179e\"],[0.4444444444444444,\"#bd3786\"],[0.5555555555555556,\"#d8576b\"],[0.6666666666666666,\"#ed7953\"],[0.7777777777777778,\"#fb9f3a\"],[0.8888888888888888,\"#fdca26\"],[1.0,\"#f0f921\"]],\"type\":\"contour\"}],\"heatmapgl\":[{\"colorbar\":{\"outlinewidth\":0,\"ticks\":\"\"},\"colorscale\":[[0.0,\"#0d0887\"],[0.1111111111111111,\"#46039f\"],[0.2222222222222222,\"#7201a8\"],[0.3333333333333333,\"#9c179e\"],[0.4444444444444444,\"#bd3786\"],[0.5555555555555556,\"#d8576b\"],[0.6666666666666666,\"#ed7953\"],[0.7777777777777778,\"#fb9f3a\"],[0.8888888888888888,\"#fdca26\"],[1.0,\"#f0f921\"]],\"type\":\"heatmapgl\"}],\"heatmap\":[{\"colorbar\":{\"outlinewidth\":0,\"ticks\":\"\"},\"colorscale\":[[0.0,\"#0d0887\"],[0.1111111111111111,\"#46039f\"],[0.2222222222222222,\"#7201a8\"],[0.3333333333333333,\"#9c179e\"],[0.4444444444444444,\"#bd3786\"],[0.5555555555555556,\"#d8576b\"],[0.6666666666666666,\"#ed7953\"],[0.7777777777777778,\"#fb9f3a\"],[0.8888888888888888,\"#fdca26\"],[1.0,\"#f0f921\"]],\"type\":\"heatmap\"}],\"histogram2dcontour\":[{\"colorbar\":{\"outlinewidth\":0,\"ticks\":\"\"},\"colorscale\":[[0.0,\"#0d0887\"],[0.1111111111111111,\"#46039f\"],[0.2222222222222222,\"#7201a8\"],[0.3333333333333333,\"#9c179e\"],[0.4444444444444444,\"#bd3786\"],[0.5555555555555556,\"#d8576b\"],[0.6666666666666666,\"#ed7953\"],[0.7777777777777778,\"#fb9f3a\"],[0.8888888888888888,\"#fdca26\"],[1.0,\"#f0f921\"]],\"type\":\"histogram2dcontour\"}],\"histogram2d\":[{\"colorbar\":{\"outlinewidth\":0,\"ticks\":\"\"},\"colorscale\":[[0.0,\"#0d0887\"],[0.1111111111111111,\"#46039f\"],[0.2222222222222222,\"#7201a8\"],[0.3333333333333333,\"#9c179e\"],[0.4444444444444444,\"#bd3786\"],[0.5555555555555556,\"#d8576b\"],[0.6666666666666666,\"#ed7953\"],[0.7777777777777778,\"#fb9f3a\"],[0.8888888888888888,\"#fdca26\"],[1.0,\"#f0f921\"]],\"type\":\"histogram2d\"}],\"histogram\":[{\"marker\":{\"pattern\":{\"fillmode\":\"overlay\",\"size\":10,\"solidity\":0.2}},\"type\":\"histogram\"}],\"mesh3d\":[{\"colorbar\":{\"outlinewidth\":0,\"ticks\":\"\"},\"type\":\"mesh3d\"}],\"parcoords\":[{\"line\":{\"colorbar\":{\"outlinewidth\":0,\"ticks\":\"\"}},\"type\":\"parcoords\"}],\"pie\":[{\"automargin\":true,\"type\":\"pie\"}],\"scatter3d\":[{\"line\":{\"colorbar\":{\"outlinewidth\":0,\"ticks\":\"\"}},\"marker\":{\"colorbar\":{\"outlinewidth\":0,\"ticks\":\"\"}},\"type\":\"scatter3d\"}],\"scattercarpet\":[{\"marker\":{\"colorbar\":{\"outlinewidth\":0,\"ticks\":\"\"}},\"type\":\"scattercarpet\"}],\"scattergeo\":[{\"marker\":{\"colorbar\":{\"outlinewidth\":0,\"ticks\":\"\"}},\"type\":\"scattergeo\"}],\"scattergl\":[{\"marker\":{\"colorbar\":{\"outlinewidth\":0,\"ticks\":\"\"}},\"type\":\"scattergl\"}],\"scattermapbox\":[{\"marker\":{\"colorbar\":{\"outlinewidth\":0,\"ticks\":\"\"}},\"type\":\"scattermapbox\"}],\"scatterpolargl\":[{\"marker\":{\"colorbar\":{\"outlinewidth\":0,\"ticks\":\"\"}},\"type\":\"scatterpolargl\"}],\"scatterpolar\":[{\"marker\":{\"colorbar\":{\"outlinewidth\":0,\"ticks\":\"\"}},\"type\":\"scatterpolar\"}],\"scatter\":[{\"fillpattern\":{\"fillmode\":\"overlay\",\"size\":10,\"solidity\":0.2},\"type\":\"scatter\"}],\"scatterternary\":[{\"marker\":{\"colorbar\":{\"outlinewidth\":0,\"ticks\":\"\"}},\"type\":\"scatterternary\"}],\"surface\":[{\"colorbar\":{\"outlinewidth\":0,\"ticks\":\"\"},\"colorscale\":[[0.0,\"#0d0887\"],[0.1111111111111111,\"#46039f\"],[0.2222222222222222,\"#7201a8\"],[0.3333333333333333,\"#9c179e\"],[0.4444444444444444,\"#bd3786\"],[0.5555555555555556,\"#d8576b\"],[0.6666666666666666,\"#ed7953\"],[0.7777777777777778,\"#fb9f3a\"],[0.8888888888888888,\"#fdca26\"],[1.0,\"#f0f921\"]],\"type\":\"surface\"}],\"table\":[{\"cells\":{\"fill\":{\"color\":\"#EBF0F8\"},\"line\":{\"color\":\"white\"}},\"header\":{\"fill\":{\"color\":\"#C8D4E3\"},\"line\":{\"color\":\"white\"}},\"type\":\"table\"}]},\"layout\":{\"annotationdefaults\":{\"arrowcolor\":\"#2a3f5f\",\"arrowhead\":0,\"arrowwidth\":1},\"autotypenumbers\":\"strict\",\"coloraxis\":{\"colorbar\":{\"outlinewidth\":0,\"ticks\":\"\"}},\"colorscale\":{\"diverging\":[[0,\"#8e0152\"],[0.1,\"#c51b7d\"],[0.2,\"#de77ae\"],[0.3,\"#f1b6da\"],[0.4,\"#fde0ef\"],[0.5,\"#f7f7f7\"],[0.6,\"#e6f5d0\"],[0.7,\"#b8e186\"],[0.8,\"#7fbc41\"],[0.9,\"#4d9221\"],[1,\"#276419\"]],\"sequential\":[[0.0,\"#0d0887\"],[0.1111111111111111,\"#46039f\"],[0.2222222222222222,\"#7201a8\"],[0.3333333333333333,\"#9c179e\"],[0.4444444444444444,\"#bd3786\"],[0.5555555555555556,\"#d8576b\"],[0.6666666666666666,\"#ed7953\"],[0.7777777777777778,\"#fb9f3a\"],[0.8888888888888888,\"#fdca26\"],[1.0,\"#f0f921\"]],\"sequentialminus\":[[0.0,\"#0d0887\"],[0.1111111111111111,\"#46039f\"],[0.2222222222222222,\"#7201a8\"],[0.3333333333333333,\"#9c179e\"],[0.4444444444444444,\"#bd3786\"],[0.5555555555555556,\"#d8576b\"],[0.6666666666666666,\"#ed7953\"],[0.7777777777777778,\"#fb9f3a\"],[0.8888888888888888,\"#fdca26\"],[1.0,\"#f0f921\"]]},\"colorway\":[\"#636efa\",\"#EF553B\",\"#00cc96\",\"#ab63fa\",\"#FFA15A\",\"#19d3f3\",\"#FF6692\",\"#B6E880\",\"#FF97FF\",\"#FECB52\"],\"font\":{\"color\":\"#2a3f5f\"},\"geo\":{\"bgcolor\":\"white\",\"lakecolor\":\"white\",\"landcolor\":\"#E5ECF6\",\"showlakes\":true,\"showland\":true,\"subunitcolor\":\"white\"},\"hoverlabel\":{\"align\":\"left\"},\"hovermode\":\"closest\",\"mapbox\":{\"style\":\"light\"},\"paper_bgcolor\":\"white\",\"plot_bgcolor\":\"#E5ECF6\",\"polar\":{\"angularaxis\":{\"gridcolor\":\"white\",\"linecolor\":\"white\",\"ticks\":\"\"},\"bgcolor\":\"#E5ECF6\",\"radialaxis\":{\"gridcolor\":\"white\",\"linecolor\":\"white\",\"ticks\":\"\"}},\"scene\":{\"xaxis\":{\"backgroundcolor\":\"#E5ECF6\",\"gridcolor\":\"white\",\"gridwidth\":2,\"linecolor\":\"white\",\"showbackground\":true,\"ticks\":\"\",\"zerolinecolor\":\"white\"},\"yaxis\":{\"backgroundcolor\":\"#E5ECF6\",\"gridcolor\":\"white\",\"gridwidth\":2,\"linecolor\":\"white\",\"showbackground\":true,\"ticks\":\"\",\"zerolinecolor\":\"white\"},\"zaxis\":{\"backgroundcolor\":\"#E5ECF6\",\"gridcolor\":\"white\",\"gridwidth\":2,\"linecolor\":\"white\",\"showbackground\":true,\"ticks\":\"\",\"zerolinecolor\":\"white\"}},\"shapedefaults\":{\"line\":{\"color\":\"#2a3f5f\"}},\"ternary\":{\"aaxis\":{\"gridcolor\":\"white\",\"linecolor\":\"white\",\"ticks\":\"\"},\"baxis\":{\"gridcolor\":\"white\",\"linecolor\":\"white\",\"ticks\":\"\"},\"bgcolor\":\"#E5ECF6\",\"caxis\":{\"gridcolor\":\"white\",\"linecolor\":\"white\",\"ticks\":\"\"}},\"title\":{\"x\":0.05},\"xaxis\":{\"automargin\":true,\"gridcolor\":\"white\",\"linecolor\":\"white\",\"ticks\":\"\",\"title\":{\"standoff\":15},\"zerolinecolor\":\"white\",\"zerolinewidth\":2},\"yaxis\":{\"automargin\":true,\"gridcolor\":\"white\",\"linecolor\":\"white\",\"ticks\":\"\",\"title\":{\"standoff\":15},\"zerolinecolor\":\"white\",\"zerolinewidth\":2}}},\"title\":{\"text\":\"Evolu\\u00e7\\u00e3o do valor total de reembolsos pagos por m\\u00eas aos senadores por tipo de gasto no ano de 2015\"},\"xaxis\":{\"title\":{\"text\":\"M\\u00eas\"}},\"yaxis\":{\"title\":{\"text\":\"Valor total dos reembolsos (R$)\"}}},                        {\"responsive\": true}                    ).then(function(){\n",
       "                            \n",
       "var gd = document.getElementById('77bbfedb-3c39-42f4-a4d8-3e11a643fa21');\n",
       "var x = new MutationObserver(function (mutations, observer) {{\n",
       "        var display = window.getComputedStyle(gd).display;\n",
       "        if (!display || display === 'none') {{\n",
       "            console.log([gd, 'removed!']);\n",
       "            Plotly.purge(gd);\n",
       "            observer.disconnect();\n",
       "        }}\n",
       "}});\n",
       "\n",
       "// Listen for the removal of the full notebook cells\n",
       "var notebookContainer = gd.closest('#notebook-container');\n",
       "if (notebookContainer) {{\n",
       "    x.observe(notebookContainer, {childList: true});\n",
       "}}\n",
       "\n",
       "// Listen for the clearing of the current output cell\n",
       "var outputEl = gd.closest('.output');\n",
       "if (outputEl) {{\n",
       "    x.observe(outputEl, {childList: true});\n",
       "}}\n",
       "\n",
       "                        })                };                });            </script>        </div>"
      ]
     },
     "metadata": {},
     "output_type": "display_data"
    }
   ],
   "source": [
    "months = ['Jan', 'Fev', 'Mar', 'Abr', 'Mai', 'Jun', 'Jul', 'Ago', 'Set', 'Out', 'Nov', 'Dec']\n",
    "\n",
    "bar1 = go.Bar(x = months, y = df.groupby(['MES', 'TIPO_DESPESA'])['VALOR_REEMBOLSADO'].sum()[:12], name = \"Tipo 1\")\n",
    "bar2 = go.Bar(x = months, y = df.groupby(['MES', 'TIPO_DESPESA'])['VALOR_REEMBOLSADO'].sum()[12:24], name = \"Tipo 2\")\n",
    "bar3 = go.Bar(x = months, y = df.groupby(['MES', 'TIPO_DESPESA'])['VALOR_REEMBOLSADO'].sum()[24:36], name = \"Tipo 3\")\n",
    "bar4 = go.Bar(x = months, y = df.groupby(['MES', 'TIPO_DESPESA'])['VALOR_REEMBOLSADO'].sum()[36:48], name = \"Tipo 4\")\n",
    "bar5 = go.Bar(x = months, y = df.groupby(['MES', 'TIPO_DESPESA'])['VALOR_REEMBOLSADO'].sum()[48:60], name = \"Tipo 5\")\n",
    "bar6 = go.Bar(x = months, y = df.groupby(['MES', 'TIPO_DESPESA'])['VALOR_REEMBOLSADO'].sum()[60:72], name = \"Tipo 6\")\n",
    "bar7 = go.Bar(x = months, y = df.groupby(['MES', 'TIPO_DESPESA'])['VALOR_REEMBOLSADO'].sum()[72:], name = \"Tipo 7\")\n",
    "data = [bar1, bar2, bar3, bar4, bar5, bar6, bar7]\n",
    "layout = go.Layout(title = 'Evolução do valor total de reembolsos pagos por mês aos senadores por tipo de gasto no ano de 2015', yaxis = {'title': 'Valor total dos reembolsos (R$)'}, xaxis = {'title': 'Mês'}, barmode = 'stack')\n",
    "fig = go.Figure(data = data, layout = layout)\n",
    "py.iplot(fig)"
   ]
  },
  {
   "cell_type": "markdown",
   "metadata": {},
   "source": [
    "![image](figures\\evolucao_do_valor_total_de_reembolsos_pagos_por_mes_aos_senadores_por_tipo_de_gasto_2015.png)"
   ]
  },
  {
   "cell_type": "code",
   "execution_count": 37,
   "metadata": {},
   "outputs": [
    {
     "data": {
      "application/vnd.plotly.v1+json": {
       "config": {
        "linkText": "Export to plot.ly",
        "plotlyServerURL": "https://plot.ly",
        "showLink": false
       },
       "data": [
        {
         "type": "bar",
         "x": [
          "Jan",
          "Fev",
          "Mar",
          "Abr",
          "Mai",
          "Jun",
          "Jul",
          "Ago",
          "Set",
          "Out",
          "Nov",
          "Dec"
         ],
         "y": [
          1254,
          1677,
          2368,
          2261,
          2416,
          2298,
          2176,
          2494,
          2506,
          2329,
          2347,
          1930
         ]
        }
       ],
       "layout": {
        "template": {
         "data": {
          "bar": [
           {
            "error_x": {
             "color": "#2a3f5f"
            },
            "error_y": {
             "color": "#2a3f5f"
            },
            "marker": {
             "line": {
              "color": "#E5ECF6",
              "width": 0.5
             },
             "pattern": {
              "fillmode": "overlay",
              "size": 10,
              "solidity": 0.2
             }
            },
            "type": "bar"
           }
          ],
          "barpolar": [
           {
            "marker": {
             "line": {
              "color": "#E5ECF6",
              "width": 0.5
             },
             "pattern": {
              "fillmode": "overlay",
              "size": 10,
              "solidity": 0.2
             }
            },
            "type": "barpolar"
           }
          ],
          "carpet": [
           {
            "aaxis": {
             "endlinecolor": "#2a3f5f",
             "gridcolor": "white",
             "linecolor": "white",
             "minorgridcolor": "white",
             "startlinecolor": "#2a3f5f"
            },
            "baxis": {
             "endlinecolor": "#2a3f5f",
             "gridcolor": "white",
             "linecolor": "white",
             "minorgridcolor": "white",
             "startlinecolor": "#2a3f5f"
            },
            "type": "carpet"
           }
          ],
          "choropleth": [
           {
            "colorbar": {
             "outlinewidth": 0,
             "ticks": ""
            },
            "type": "choropleth"
           }
          ],
          "contour": [
           {
            "colorbar": {
             "outlinewidth": 0,
             "ticks": ""
            },
            "colorscale": [
             [
              0,
              "#0d0887"
             ],
             [
              0.1111111111111111,
              "#46039f"
             ],
             [
              0.2222222222222222,
              "#7201a8"
             ],
             [
              0.3333333333333333,
              "#9c179e"
             ],
             [
              0.4444444444444444,
              "#bd3786"
             ],
             [
              0.5555555555555556,
              "#d8576b"
             ],
             [
              0.6666666666666666,
              "#ed7953"
             ],
             [
              0.7777777777777778,
              "#fb9f3a"
             ],
             [
              0.8888888888888888,
              "#fdca26"
             ],
             [
              1,
              "#f0f921"
             ]
            ],
            "type": "contour"
           }
          ],
          "contourcarpet": [
           {
            "colorbar": {
             "outlinewidth": 0,
             "ticks": ""
            },
            "type": "contourcarpet"
           }
          ],
          "heatmap": [
           {
            "colorbar": {
             "outlinewidth": 0,
             "ticks": ""
            },
            "colorscale": [
             [
              0,
              "#0d0887"
             ],
             [
              0.1111111111111111,
              "#46039f"
             ],
             [
              0.2222222222222222,
              "#7201a8"
             ],
             [
              0.3333333333333333,
              "#9c179e"
             ],
             [
              0.4444444444444444,
              "#bd3786"
             ],
             [
              0.5555555555555556,
              "#d8576b"
             ],
             [
              0.6666666666666666,
              "#ed7953"
             ],
             [
              0.7777777777777778,
              "#fb9f3a"
             ],
             [
              0.8888888888888888,
              "#fdca26"
             ],
             [
              1,
              "#f0f921"
             ]
            ],
            "type": "heatmap"
           }
          ],
          "heatmapgl": [
           {
            "colorbar": {
             "outlinewidth": 0,
             "ticks": ""
            },
            "colorscale": [
             [
              0,
              "#0d0887"
             ],
             [
              0.1111111111111111,
              "#46039f"
             ],
             [
              0.2222222222222222,
              "#7201a8"
             ],
             [
              0.3333333333333333,
              "#9c179e"
             ],
             [
              0.4444444444444444,
              "#bd3786"
             ],
             [
              0.5555555555555556,
              "#d8576b"
             ],
             [
              0.6666666666666666,
              "#ed7953"
             ],
             [
              0.7777777777777778,
              "#fb9f3a"
             ],
             [
              0.8888888888888888,
              "#fdca26"
             ],
             [
              1,
              "#f0f921"
             ]
            ],
            "type": "heatmapgl"
           }
          ],
          "histogram": [
           {
            "marker": {
             "pattern": {
              "fillmode": "overlay",
              "size": 10,
              "solidity": 0.2
             }
            },
            "type": "histogram"
           }
          ],
          "histogram2d": [
           {
            "colorbar": {
             "outlinewidth": 0,
             "ticks": ""
            },
            "colorscale": [
             [
              0,
              "#0d0887"
             ],
             [
              0.1111111111111111,
              "#46039f"
             ],
             [
              0.2222222222222222,
              "#7201a8"
             ],
             [
              0.3333333333333333,
              "#9c179e"
             ],
             [
              0.4444444444444444,
              "#bd3786"
             ],
             [
              0.5555555555555556,
              "#d8576b"
             ],
             [
              0.6666666666666666,
              "#ed7953"
             ],
             [
              0.7777777777777778,
              "#fb9f3a"
             ],
             [
              0.8888888888888888,
              "#fdca26"
             ],
             [
              1,
              "#f0f921"
             ]
            ],
            "type": "histogram2d"
           }
          ],
          "histogram2dcontour": [
           {
            "colorbar": {
             "outlinewidth": 0,
             "ticks": ""
            },
            "colorscale": [
             [
              0,
              "#0d0887"
             ],
             [
              0.1111111111111111,
              "#46039f"
             ],
             [
              0.2222222222222222,
              "#7201a8"
             ],
             [
              0.3333333333333333,
              "#9c179e"
             ],
             [
              0.4444444444444444,
              "#bd3786"
             ],
             [
              0.5555555555555556,
              "#d8576b"
             ],
             [
              0.6666666666666666,
              "#ed7953"
             ],
             [
              0.7777777777777778,
              "#fb9f3a"
             ],
             [
              0.8888888888888888,
              "#fdca26"
             ],
             [
              1,
              "#f0f921"
             ]
            ],
            "type": "histogram2dcontour"
           }
          ],
          "mesh3d": [
           {
            "colorbar": {
             "outlinewidth": 0,
             "ticks": ""
            },
            "type": "mesh3d"
           }
          ],
          "parcoords": [
           {
            "line": {
             "colorbar": {
              "outlinewidth": 0,
              "ticks": ""
             }
            },
            "type": "parcoords"
           }
          ],
          "pie": [
           {
            "automargin": true,
            "type": "pie"
           }
          ],
          "scatter": [
           {
            "fillpattern": {
             "fillmode": "overlay",
             "size": 10,
             "solidity": 0.2
            },
            "type": "scatter"
           }
          ],
          "scatter3d": [
           {
            "line": {
             "colorbar": {
              "outlinewidth": 0,
              "ticks": ""
             }
            },
            "marker": {
             "colorbar": {
              "outlinewidth": 0,
              "ticks": ""
             }
            },
            "type": "scatter3d"
           }
          ],
          "scattercarpet": [
           {
            "marker": {
             "colorbar": {
              "outlinewidth": 0,
              "ticks": ""
             }
            },
            "type": "scattercarpet"
           }
          ],
          "scattergeo": [
           {
            "marker": {
             "colorbar": {
              "outlinewidth": 0,
              "ticks": ""
             }
            },
            "type": "scattergeo"
           }
          ],
          "scattergl": [
           {
            "marker": {
             "colorbar": {
              "outlinewidth": 0,
              "ticks": ""
             }
            },
            "type": "scattergl"
           }
          ],
          "scattermapbox": [
           {
            "marker": {
             "colorbar": {
              "outlinewidth": 0,
              "ticks": ""
             }
            },
            "type": "scattermapbox"
           }
          ],
          "scatterpolar": [
           {
            "marker": {
             "colorbar": {
              "outlinewidth": 0,
              "ticks": ""
             }
            },
            "type": "scatterpolar"
           }
          ],
          "scatterpolargl": [
           {
            "marker": {
             "colorbar": {
              "outlinewidth": 0,
              "ticks": ""
             }
            },
            "type": "scatterpolargl"
           }
          ],
          "scatterternary": [
           {
            "marker": {
             "colorbar": {
              "outlinewidth": 0,
              "ticks": ""
             }
            },
            "type": "scatterternary"
           }
          ],
          "surface": [
           {
            "colorbar": {
             "outlinewidth": 0,
             "ticks": ""
            },
            "colorscale": [
             [
              0,
              "#0d0887"
             ],
             [
              0.1111111111111111,
              "#46039f"
             ],
             [
              0.2222222222222222,
              "#7201a8"
             ],
             [
              0.3333333333333333,
              "#9c179e"
             ],
             [
              0.4444444444444444,
              "#bd3786"
             ],
             [
              0.5555555555555556,
              "#d8576b"
             ],
             [
              0.6666666666666666,
              "#ed7953"
             ],
             [
              0.7777777777777778,
              "#fb9f3a"
             ],
             [
              0.8888888888888888,
              "#fdca26"
             ],
             [
              1,
              "#f0f921"
             ]
            ],
            "type": "surface"
           }
          ],
          "table": [
           {
            "cells": {
             "fill": {
              "color": "#EBF0F8"
             },
             "line": {
              "color": "white"
             }
            },
            "header": {
             "fill": {
              "color": "#C8D4E3"
             },
             "line": {
              "color": "white"
             }
            },
            "type": "table"
           }
          ]
         },
         "layout": {
          "annotationdefaults": {
           "arrowcolor": "#2a3f5f",
           "arrowhead": 0,
           "arrowwidth": 1
          },
          "autotypenumbers": "strict",
          "coloraxis": {
           "colorbar": {
            "outlinewidth": 0,
            "ticks": ""
           }
          },
          "colorscale": {
           "diverging": [
            [
             0,
             "#8e0152"
            ],
            [
             0.1,
             "#c51b7d"
            ],
            [
             0.2,
             "#de77ae"
            ],
            [
             0.3,
             "#f1b6da"
            ],
            [
             0.4,
             "#fde0ef"
            ],
            [
             0.5,
             "#f7f7f7"
            ],
            [
             0.6,
             "#e6f5d0"
            ],
            [
             0.7,
             "#b8e186"
            ],
            [
             0.8,
             "#7fbc41"
            ],
            [
             0.9,
             "#4d9221"
            ],
            [
             1,
             "#276419"
            ]
           ],
           "sequential": [
            [
             0,
             "#0d0887"
            ],
            [
             0.1111111111111111,
             "#46039f"
            ],
            [
             0.2222222222222222,
             "#7201a8"
            ],
            [
             0.3333333333333333,
             "#9c179e"
            ],
            [
             0.4444444444444444,
             "#bd3786"
            ],
            [
             0.5555555555555556,
             "#d8576b"
            ],
            [
             0.6666666666666666,
             "#ed7953"
            ],
            [
             0.7777777777777778,
             "#fb9f3a"
            ],
            [
             0.8888888888888888,
             "#fdca26"
            ],
            [
             1,
             "#f0f921"
            ]
           ],
           "sequentialminus": [
            [
             0,
             "#0d0887"
            ],
            [
             0.1111111111111111,
             "#46039f"
            ],
            [
             0.2222222222222222,
             "#7201a8"
            ],
            [
             0.3333333333333333,
             "#9c179e"
            ],
            [
             0.4444444444444444,
             "#bd3786"
            ],
            [
             0.5555555555555556,
             "#d8576b"
            ],
            [
             0.6666666666666666,
             "#ed7953"
            ],
            [
             0.7777777777777778,
             "#fb9f3a"
            ],
            [
             0.8888888888888888,
             "#fdca26"
            ],
            [
             1,
             "#f0f921"
            ]
           ]
          },
          "colorway": [
           "#636efa",
           "#EF553B",
           "#00cc96",
           "#ab63fa",
           "#FFA15A",
           "#19d3f3",
           "#FF6692",
           "#B6E880",
           "#FF97FF",
           "#FECB52"
          ],
          "font": {
           "color": "#2a3f5f"
          },
          "geo": {
           "bgcolor": "white",
           "lakecolor": "white",
           "landcolor": "#E5ECF6",
           "showlakes": true,
           "showland": true,
           "subunitcolor": "white"
          },
          "hoverlabel": {
           "align": "left"
          },
          "hovermode": "closest",
          "mapbox": {
           "style": "light"
          },
          "paper_bgcolor": "white",
          "plot_bgcolor": "#E5ECF6",
          "polar": {
           "angularaxis": {
            "gridcolor": "white",
            "linecolor": "white",
            "ticks": ""
           },
           "bgcolor": "#E5ECF6",
           "radialaxis": {
            "gridcolor": "white",
            "linecolor": "white",
            "ticks": ""
           }
          },
          "scene": {
           "xaxis": {
            "backgroundcolor": "#E5ECF6",
            "gridcolor": "white",
            "gridwidth": 2,
            "linecolor": "white",
            "showbackground": true,
            "ticks": "",
            "zerolinecolor": "white"
           },
           "yaxis": {
            "backgroundcolor": "#E5ECF6",
            "gridcolor": "white",
            "gridwidth": 2,
            "linecolor": "white",
            "showbackground": true,
            "ticks": "",
            "zerolinecolor": "white"
           },
           "zaxis": {
            "backgroundcolor": "#E5ECF6",
            "gridcolor": "white",
            "gridwidth": 2,
            "linecolor": "white",
            "showbackground": true,
            "ticks": "",
            "zerolinecolor": "white"
           }
          },
          "shapedefaults": {
           "line": {
            "color": "#2a3f5f"
           }
          },
          "ternary": {
           "aaxis": {
            "gridcolor": "white",
            "linecolor": "white",
            "ticks": ""
           },
           "baxis": {
            "gridcolor": "white",
            "linecolor": "white",
            "ticks": ""
           },
           "bgcolor": "#E5ECF6",
           "caxis": {
            "gridcolor": "white",
            "linecolor": "white",
            "ticks": ""
           }
          },
          "title": {
           "x": 0.05
          },
          "xaxis": {
           "automargin": true,
           "gridcolor": "white",
           "linecolor": "white",
           "ticks": "",
           "title": {
            "standoff": 15
           },
           "zerolinecolor": "white",
           "zerolinewidth": 2
          },
          "yaxis": {
           "automargin": true,
           "gridcolor": "white",
           "linecolor": "white",
           "ticks": "",
           "title": {
            "standoff": 15
           },
           "zerolinecolor": "white",
           "zerolinewidth": 2
          }
         }
        },
        "title": {
         "text": "Evolução do número de reembolsos solicitados por mês pelos senadores em 2015"
        },
        "xaxis": {
         "title": {
          "text": "Mês"
         }
        },
        "yaxis": {
         "title": {
          "text": "Contagem total de reembolsos"
         }
        }
       }
      },
      "text/html": [
       "<div>                            <div id=\"0da11745-f28c-41e8-8a4b-00d1da06e1dd\" class=\"plotly-graph-div\" style=\"height:525px; width:100%;\"></div>            <script type=\"text/javascript\">                require([\"plotly\"], function(Plotly) {                    window.PLOTLYENV=window.PLOTLYENV || {};                                    if (document.getElementById(\"0da11745-f28c-41e8-8a4b-00d1da06e1dd\")) {                    Plotly.newPlot(                        \"0da11745-f28c-41e8-8a4b-00d1da06e1dd\",                        [{\"x\":[\"Jan\",\"Fev\",\"Mar\",\"Abr\",\"Mai\",\"Jun\",\"Jul\",\"Ago\",\"Set\",\"Out\",\"Nov\",\"Dec\"],\"y\":[1254,1677,2368,2261,2416,2298,2176,2494,2506,2329,2347,1930],\"type\":\"bar\"}],                        {\"template\":{\"data\":{\"barpolar\":[{\"marker\":{\"line\":{\"color\":\"#E5ECF6\",\"width\":0.5},\"pattern\":{\"fillmode\":\"overlay\",\"size\":10,\"solidity\":0.2}},\"type\":\"barpolar\"}],\"bar\":[{\"error_x\":{\"color\":\"#2a3f5f\"},\"error_y\":{\"color\":\"#2a3f5f\"},\"marker\":{\"line\":{\"color\":\"#E5ECF6\",\"width\":0.5},\"pattern\":{\"fillmode\":\"overlay\",\"size\":10,\"solidity\":0.2}},\"type\":\"bar\"}],\"carpet\":[{\"aaxis\":{\"endlinecolor\":\"#2a3f5f\",\"gridcolor\":\"white\",\"linecolor\":\"white\",\"minorgridcolor\":\"white\",\"startlinecolor\":\"#2a3f5f\"},\"baxis\":{\"endlinecolor\":\"#2a3f5f\",\"gridcolor\":\"white\",\"linecolor\":\"white\",\"minorgridcolor\":\"white\",\"startlinecolor\":\"#2a3f5f\"},\"type\":\"carpet\"}],\"choropleth\":[{\"colorbar\":{\"outlinewidth\":0,\"ticks\":\"\"},\"type\":\"choropleth\"}],\"contourcarpet\":[{\"colorbar\":{\"outlinewidth\":0,\"ticks\":\"\"},\"type\":\"contourcarpet\"}],\"contour\":[{\"colorbar\":{\"outlinewidth\":0,\"ticks\":\"\"},\"colorscale\":[[0.0,\"#0d0887\"],[0.1111111111111111,\"#46039f\"],[0.2222222222222222,\"#7201a8\"],[0.3333333333333333,\"#9c179e\"],[0.4444444444444444,\"#bd3786\"],[0.5555555555555556,\"#d8576b\"],[0.6666666666666666,\"#ed7953\"],[0.7777777777777778,\"#fb9f3a\"],[0.8888888888888888,\"#fdca26\"],[1.0,\"#f0f921\"]],\"type\":\"contour\"}],\"heatmapgl\":[{\"colorbar\":{\"outlinewidth\":0,\"ticks\":\"\"},\"colorscale\":[[0.0,\"#0d0887\"],[0.1111111111111111,\"#46039f\"],[0.2222222222222222,\"#7201a8\"],[0.3333333333333333,\"#9c179e\"],[0.4444444444444444,\"#bd3786\"],[0.5555555555555556,\"#d8576b\"],[0.6666666666666666,\"#ed7953\"],[0.7777777777777778,\"#fb9f3a\"],[0.8888888888888888,\"#fdca26\"],[1.0,\"#f0f921\"]],\"type\":\"heatmapgl\"}],\"heatmap\":[{\"colorbar\":{\"outlinewidth\":0,\"ticks\":\"\"},\"colorscale\":[[0.0,\"#0d0887\"],[0.1111111111111111,\"#46039f\"],[0.2222222222222222,\"#7201a8\"],[0.3333333333333333,\"#9c179e\"],[0.4444444444444444,\"#bd3786\"],[0.5555555555555556,\"#d8576b\"],[0.6666666666666666,\"#ed7953\"],[0.7777777777777778,\"#fb9f3a\"],[0.8888888888888888,\"#fdca26\"],[1.0,\"#f0f921\"]],\"type\":\"heatmap\"}],\"histogram2dcontour\":[{\"colorbar\":{\"outlinewidth\":0,\"ticks\":\"\"},\"colorscale\":[[0.0,\"#0d0887\"],[0.1111111111111111,\"#46039f\"],[0.2222222222222222,\"#7201a8\"],[0.3333333333333333,\"#9c179e\"],[0.4444444444444444,\"#bd3786\"],[0.5555555555555556,\"#d8576b\"],[0.6666666666666666,\"#ed7953\"],[0.7777777777777778,\"#fb9f3a\"],[0.8888888888888888,\"#fdca26\"],[1.0,\"#f0f921\"]],\"type\":\"histogram2dcontour\"}],\"histogram2d\":[{\"colorbar\":{\"outlinewidth\":0,\"ticks\":\"\"},\"colorscale\":[[0.0,\"#0d0887\"],[0.1111111111111111,\"#46039f\"],[0.2222222222222222,\"#7201a8\"],[0.3333333333333333,\"#9c179e\"],[0.4444444444444444,\"#bd3786\"],[0.5555555555555556,\"#d8576b\"],[0.6666666666666666,\"#ed7953\"],[0.7777777777777778,\"#fb9f3a\"],[0.8888888888888888,\"#fdca26\"],[1.0,\"#f0f921\"]],\"type\":\"histogram2d\"}],\"histogram\":[{\"marker\":{\"pattern\":{\"fillmode\":\"overlay\",\"size\":10,\"solidity\":0.2}},\"type\":\"histogram\"}],\"mesh3d\":[{\"colorbar\":{\"outlinewidth\":0,\"ticks\":\"\"},\"type\":\"mesh3d\"}],\"parcoords\":[{\"line\":{\"colorbar\":{\"outlinewidth\":0,\"ticks\":\"\"}},\"type\":\"parcoords\"}],\"pie\":[{\"automargin\":true,\"type\":\"pie\"}],\"scatter3d\":[{\"line\":{\"colorbar\":{\"outlinewidth\":0,\"ticks\":\"\"}},\"marker\":{\"colorbar\":{\"outlinewidth\":0,\"ticks\":\"\"}},\"type\":\"scatter3d\"}],\"scattercarpet\":[{\"marker\":{\"colorbar\":{\"outlinewidth\":0,\"ticks\":\"\"}},\"type\":\"scattercarpet\"}],\"scattergeo\":[{\"marker\":{\"colorbar\":{\"outlinewidth\":0,\"ticks\":\"\"}},\"type\":\"scattergeo\"}],\"scattergl\":[{\"marker\":{\"colorbar\":{\"outlinewidth\":0,\"ticks\":\"\"}},\"type\":\"scattergl\"}],\"scattermapbox\":[{\"marker\":{\"colorbar\":{\"outlinewidth\":0,\"ticks\":\"\"}},\"type\":\"scattermapbox\"}],\"scatterpolargl\":[{\"marker\":{\"colorbar\":{\"outlinewidth\":0,\"ticks\":\"\"}},\"type\":\"scatterpolargl\"}],\"scatterpolar\":[{\"marker\":{\"colorbar\":{\"outlinewidth\":0,\"ticks\":\"\"}},\"type\":\"scatterpolar\"}],\"scatter\":[{\"fillpattern\":{\"fillmode\":\"overlay\",\"size\":10,\"solidity\":0.2},\"type\":\"scatter\"}],\"scatterternary\":[{\"marker\":{\"colorbar\":{\"outlinewidth\":0,\"ticks\":\"\"}},\"type\":\"scatterternary\"}],\"surface\":[{\"colorbar\":{\"outlinewidth\":0,\"ticks\":\"\"},\"colorscale\":[[0.0,\"#0d0887\"],[0.1111111111111111,\"#46039f\"],[0.2222222222222222,\"#7201a8\"],[0.3333333333333333,\"#9c179e\"],[0.4444444444444444,\"#bd3786\"],[0.5555555555555556,\"#d8576b\"],[0.6666666666666666,\"#ed7953\"],[0.7777777777777778,\"#fb9f3a\"],[0.8888888888888888,\"#fdca26\"],[1.0,\"#f0f921\"]],\"type\":\"surface\"}],\"table\":[{\"cells\":{\"fill\":{\"color\":\"#EBF0F8\"},\"line\":{\"color\":\"white\"}},\"header\":{\"fill\":{\"color\":\"#C8D4E3\"},\"line\":{\"color\":\"white\"}},\"type\":\"table\"}]},\"layout\":{\"annotationdefaults\":{\"arrowcolor\":\"#2a3f5f\",\"arrowhead\":0,\"arrowwidth\":1},\"autotypenumbers\":\"strict\",\"coloraxis\":{\"colorbar\":{\"outlinewidth\":0,\"ticks\":\"\"}},\"colorscale\":{\"diverging\":[[0,\"#8e0152\"],[0.1,\"#c51b7d\"],[0.2,\"#de77ae\"],[0.3,\"#f1b6da\"],[0.4,\"#fde0ef\"],[0.5,\"#f7f7f7\"],[0.6,\"#e6f5d0\"],[0.7,\"#b8e186\"],[0.8,\"#7fbc41\"],[0.9,\"#4d9221\"],[1,\"#276419\"]],\"sequential\":[[0.0,\"#0d0887\"],[0.1111111111111111,\"#46039f\"],[0.2222222222222222,\"#7201a8\"],[0.3333333333333333,\"#9c179e\"],[0.4444444444444444,\"#bd3786\"],[0.5555555555555556,\"#d8576b\"],[0.6666666666666666,\"#ed7953\"],[0.7777777777777778,\"#fb9f3a\"],[0.8888888888888888,\"#fdca26\"],[1.0,\"#f0f921\"]],\"sequentialminus\":[[0.0,\"#0d0887\"],[0.1111111111111111,\"#46039f\"],[0.2222222222222222,\"#7201a8\"],[0.3333333333333333,\"#9c179e\"],[0.4444444444444444,\"#bd3786\"],[0.5555555555555556,\"#d8576b\"],[0.6666666666666666,\"#ed7953\"],[0.7777777777777778,\"#fb9f3a\"],[0.8888888888888888,\"#fdca26\"],[1.0,\"#f0f921\"]]},\"colorway\":[\"#636efa\",\"#EF553B\",\"#00cc96\",\"#ab63fa\",\"#FFA15A\",\"#19d3f3\",\"#FF6692\",\"#B6E880\",\"#FF97FF\",\"#FECB52\"],\"font\":{\"color\":\"#2a3f5f\"},\"geo\":{\"bgcolor\":\"white\",\"lakecolor\":\"white\",\"landcolor\":\"#E5ECF6\",\"showlakes\":true,\"showland\":true,\"subunitcolor\":\"white\"},\"hoverlabel\":{\"align\":\"left\"},\"hovermode\":\"closest\",\"mapbox\":{\"style\":\"light\"},\"paper_bgcolor\":\"white\",\"plot_bgcolor\":\"#E5ECF6\",\"polar\":{\"angularaxis\":{\"gridcolor\":\"white\",\"linecolor\":\"white\",\"ticks\":\"\"},\"bgcolor\":\"#E5ECF6\",\"radialaxis\":{\"gridcolor\":\"white\",\"linecolor\":\"white\",\"ticks\":\"\"}},\"scene\":{\"xaxis\":{\"backgroundcolor\":\"#E5ECF6\",\"gridcolor\":\"white\",\"gridwidth\":2,\"linecolor\":\"white\",\"showbackground\":true,\"ticks\":\"\",\"zerolinecolor\":\"white\"},\"yaxis\":{\"backgroundcolor\":\"#E5ECF6\",\"gridcolor\":\"white\",\"gridwidth\":2,\"linecolor\":\"white\",\"showbackground\":true,\"ticks\":\"\",\"zerolinecolor\":\"white\"},\"zaxis\":{\"backgroundcolor\":\"#E5ECF6\",\"gridcolor\":\"white\",\"gridwidth\":2,\"linecolor\":\"white\",\"showbackground\":true,\"ticks\":\"\",\"zerolinecolor\":\"white\"}},\"shapedefaults\":{\"line\":{\"color\":\"#2a3f5f\"}},\"ternary\":{\"aaxis\":{\"gridcolor\":\"white\",\"linecolor\":\"white\",\"ticks\":\"\"},\"baxis\":{\"gridcolor\":\"white\",\"linecolor\":\"white\",\"ticks\":\"\"},\"bgcolor\":\"#E5ECF6\",\"caxis\":{\"gridcolor\":\"white\",\"linecolor\":\"white\",\"ticks\":\"\"}},\"title\":{\"x\":0.05},\"xaxis\":{\"automargin\":true,\"gridcolor\":\"white\",\"linecolor\":\"white\",\"ticks\":\"\",\"title\":{\"standoff\":15},\"zerolinecolor\":\"white\",\"zerolinewidth\":2},\"yaxis\":{\"automargin\":true,\"gridcolor\":\"white\",\"linecolor\":\"white\",\"ticks\":\"\",\"title\":{\"standoff\":15},\"zerolinecolor\":\"white\",\"zerolinewidth\":2}}},\"title\":{\"text\":\"Evolu\\u00e7\\u00e3o do n\\u00famero de reembolsos solicitados por m\\u00eas pelos senadores em 2015\"},\"xaxis\":{\"title\":{\"text\":\"M\\u00eas\"}},\"yaxis\":{\"title\":{\"text\":\"Contagem total de reembolsos\"}}},                        {\"responsive\": true}                    ).then(function(){\n",
       "                            \n",
       "var gd = document.getElementById('0da11745-f28c-41e8-8a4b-00d1da06e1dd');\n",
       "var x = new MutationObserver(function (mutations, observer) {{\n",
       "        var display = window.getComputedStyle(gd).display;\n",
       "        if (!display || display === 'none') {{\n",
       "            console.log([gd, 'removed!']);\n",
       "            Plotly.purge(gd);\n",
       "            observer.disconnect();\n",
       "        }}\n",
       "}});\n",
       "\n",
       "// Listen for the removal of the full notebook cells\n",
       "var notebookContainer = gd.closest('#notebook-container');\n",
       "if (notebookContainer) {{\n",
       "    x.observe(notebookContainer, {childList: true});\n",
       "}}\n",
       "\n",
       "// Listen for the clearing of the current output cell\n",
       "var outputEl = gd.closest('.output');\n",
       "if (outputEl) {{\n",
       "    x.observe(outputEl, {childList: true});\n",
       "}}\n",
       "\n",
       "                        })                };                });            </script>        </div>"
      ]
     },
     "metadata": {},
     "output_type": "display_data"
    }
   ],
   "source": [
    "bar = go.Bar(x = months, y = df.groupby('MES')['VALOR_REEMBOLSADO'].count())\n",
    "data = [bar]\n",
    "layout = go.Layout(title = 'Evolução do número de reembolsos solicitados por mês pelos senadores em 2015', yaxis = {'title': 'Contagem total de reembolsos'}, xaxis = {'title': 'Mês'})\n",
    "fig = go.Figure(data = data, layout = layout)\n",
    "py.iplot(fig)"
   ]
  },
  {
   "cell_type": "markdown",
   "metadata": {},
   "source": [
    "Quantos reembolsos foram solicitados em 2015?"
   ]
  },
  {
   "cell_type": "code",
   "execution_count": 38,
   "metadata": {},
   "outputs": [
    {
     "data": {
      "text/plain": [
       "26056"
      ]
     },
     "execution_count": 38,
     "metadata": {},
     "output_type": "execute_result"
    }
   ],
   "source": [
    "df['VALOR_REEMBOLSADO'].count()"
   ]
  },
  {
   "cell_type": "markdown",
   "metadata": {},
   "source": [
    "Qual foi o valor da cota gasto pelos senadores?"
   ]
  },
  {
   "cell_type": "code",
   "execution_count": 39,
   "metadata": {},
   "outputs": [
    {
     "data": {
      "text/plain": [
       "24860248.59"
      ]
     },
     "execution_count": 39,
     "metadata": {},
     "output_type": "execute_result"
    }
   ],
   "source": [
    "df['VALOR_REEMBOLSADO'].sum()"
   ]
  },
  {
   "cell_type": "code",
   "execution_count": 40,
   "metadata": {},
   "outputs": [
    {
     "data": {
      "text/plain": [
       "0.419"
      ]
     },
     "execution_count": 40,
     "metadata": {},
     "output_type": "execute_result"
    }
   ],
   "source": [
    "total_anual = (gasto_ativ_parlamentar_anual * 81 - df['VALOR_REEMBOLSADO'].sum())/(gasto_ativ_parlamentar_anual * 81)\n",
    "np.round(total_anual, 3)"
   ]
  },
  {
   "cell_type": "markdown",
   "metadata": {},
   "source": [
    "De acordo com os dados do CEAPS, em 2015 foram realizados 26056 reembolsos aos senadores da república, totalizando uma quantia de 24.860.248,59 de reais pagos, cerca de 41,9% de um total de 42.768.000,00 de reais permitido por ano para os 81 senadores."
   ]
  },
  {
   "cell_type": "markdown",
   "metadata": {},
   "source": [
    "Qual é o número de PJs e PFs que forneceram algum tipo de serviço para os senadores?"
   ]
  },
  {
   "cell_type": "code",
   "execution_count": 41,
   "metadata": {},
   "outputs": [
    {
     "data": {
      "text/plain": [
       "3853"
      ]
     },
     "execution_count": 41,
     "metadata": {},
     "output_type": "execute_result"
    }
   ],
   "source": [
    "len(df['CNPJ_CPF'].unique())"
   ]
  },
  {
   "cell_type": "markdown",
   "metadata": {},
   "source": [
    "Resposta: 3853"
   ]
  },
  {
   "cell_type": "markdown",
   "metadata": {},
   "source": [
    "Os 10 maiores fornecedores"
   ]
  },
  {
   "cell_type": "code",
   "execution_count": 42,
   "metadata": {},
   "outputs": [
    {
     "data": {
      "text/plain": [
       "CNPJ_CPF\n",
       "02.012.862/0001-60    1754055.77\n",
       "16.978.175/0001-08    1454045.16\n",
       "07.575.651/0001-59     752917.66\n",
       "02.575.829/0001-48     405197.89\n",
       "26.480.780/0001-08     358893.40\n",
       "04.850.792/0001-44     300674.40\n",
       "09.296.295/0001-60     237126.88\n",
       "38.006.631/0001-90     216780.00\n",
       "22.793.293/0001-44     210000.00\n",
       "72.232.382/0001-90     198974.47\n",
       "Name: VALOR_REEMBOLSADO, dtype: float64"
      ]
     },
     "execution_count": 42,
     "metadata": {},
     "output_type": "execute_result"
    }
   ],
   "source": [
    "df.groupby('CNPJ_CPF')['VALOR_REEMBOLSADO'].sum().nlargest(10)"
   ]
  },
  {
   "cell_type": "code",
   "execution_count": 59,
   "metadata": {},
   "outputs": [
    {
     "data": {
      "image/png": "[encoded data removed]",
      "text/plain": [
       "<Figure size 864x576 with 1 Axes>"
      ]
     },
     "metadata": {
      "needs_background": "light"
     },
     "output_type": "display_data"
    }
   ],
   "source": [
    "fig, ax = plt.subplots()\n",
    "\n",
    "ax = sns.barplot(y = df.groupby('CNPJ_CPF')['VALOR_REEMBOLSADO'].sum().nlargest(10).index, x = df.groupby('CNPJ_CPF')['VALOR_REEMBOLSADO'].sum().nlargest(10))\n",
    "ax.set_xlabel(\"Valor pago pelos senadores ao fornecedor (R$)\", fontsize = 15)\n",
    "ax.set_ylabel(\"CNPJ/CPF do Fornecedor\", fontsize = 15)\n",
    "ax.set_title(\"Os 10 maiores fornecedores dos parlamentares em 2015\", fontsize = 20)\n",
    "fig.set_size_inches((12, 8))\n",
    "fig.savefig(\"figures\\os_10_maiores_fornecedores_dos_parlamentares_em_2015.png\")"
   ]
  },
  {
   "cell_type": "code",
   "execution_count": 44,
   "metadata": {},
   "outputs": [
    {
     "data": {
      "text/plain": [
       "4329"
      ]
     },
     "execution_count": 44,
     "metadata": {},
     "output_type": "execute_result"
    }
   ],
   "source": [
    "len(df['FORNECEDOR'].unique())"
   ]
  },
  {
   "cell_type": "markdown",
   "metadata": {},
   "source": [
    "Note que o número de CNPJs e CPFs difere do número de fornecedores, o que nos indica que devemos ter um CNPJ ou um CPF ligados a mais de um fornecedor (por exemplo: variações do nome de uma empresa (GOL, GOL linhas aéreas e outras)). Devemos arrumar uma maneira de unificar os nomes dos fornecedores com o auxílio dos CNPJs e dos CPFs. "
   ]
  },
  {
   "cell_type": "code",
   "execution_count": null,
   "metadata": {},
   "outputs": [],
   "source": []
  },
  {
   "cell_type": "markdown",
   "metadata": {},
   "source": [
    "Qual o número de senadores que solicitaram reembolsos?"
   ]
  },
  {
   "cell_type": "code",
   "execution_count": 60,
   "metadata": {},
   "outputs": [
    {
     "data": {
      "text/plain": [
       "101"
      ]
     },
     "execution_count": 60,
     "metadata": {},
     "output_type": "execute_result"
    }
   ],
   "source": [
    "len(df['SENADOR'].unique())"
   ]
  },
  {
   "cell_type": "markdown",
   "metadata": {},
   "source": [
    "De acordo com a base de dados, 101 senadores receberam reembolso em 2015, 20 a mais do que o número de senadores, 81, que podem estar ativos. Isso talvez possa ser explicado pela entrada de suplentes ou pela contabilização de pedidos realizados ao final de 2014 que só foram contabilizados em 2015 para senadores que deixaram de ocupar o cargo, já que em 2014 foi ano de eleição e para alguns seria o fim do mandato."
   ]
  },
  {
   "cell_type": "markdown",
   "metadata": {},
   "source": [
    "Os 10 senadores que mais pediram reembolso no ano de 2015"
   ]
  },
  {
   "cell_type": "code",
   "execution_count": 46,
   "metadata": {},
   "outputs": [
    {
     "data": {
      "image/png": "[encoded data removed]",
      "text/plain": [
       "<Figure size 864x576 with 1 Axes>"
      ]
     },
     "metadata": {
      "needs_background": "light"
     },
     "output_type": "display_data"
    }
   ],
   "source": [
    "fig, ax = plt.subplots()\n",
    "\n",
    "ax = sns.barplot(y = df.groupby('SENADOR')['VALOR_REEMBOLSADO'].count().nlargest(10).index, x = df.groupby('SENADOR')['VALOR_REEMBOLSADO'].count().nlargest(10))\n",
    "ax.set_xlabel(\"Reembolsos recebidos\", fontsize = 15)\n",
    "ax.set_ylabel(\"Senador\", fontsize = 15)\n",
    "ax.set_title(\"Os 10 senadores que mais pediram reembolso em 2015\", fontsize = 20)\n",
    "fig.set_size_inches((12,8))\n",
    "fig.savefig(\"figures\\os_10_senadores_que_mais_pediram_reembolso_em_2015.png\")"
   ]
  },
  {
   "cell_type": "markdown",
   "metadata": {},
   "source": [
    "Os 10 senadores que mais gastaram da cota em 2015"
   ]
  },
  {
   "cell_type": "code",
   "execution_count": 47,
   "metadata": {},
   "outputs": [
    {
     "data": {
      "image/png": "[encoded data removed]",
      "text/plain": [
       "<Figure size 864x576 with 1 Axes>"
      ]
     },
     "metadata": {
      "needs_background": "light"
     },
     "output_type": "display_data"
    }
   ],
   "source": [
    "fig, ax = plt.subplots()\n",
    "\n",
    "ax = sns.barplot(y = df.groupby('SENADOR')['VALOR_REEMBOLSADO'].sum().nlargest(10).index, x = 100*(df.groupby('SENADOR')['VALOR_REEMBOLSADO'].sum().nlargest(10)/gasto_ativ_parlamentar_anual))\n",
    "ax.set_xlabel(\"Percentual da cota anual de reembolsos recebido (%)\", fontsize = 15)\n",
    "ax.set_ylabel(\"Senador\", fontsize = 15)\n",
    "ax.set_title(\"Os 10 senadores que mais gastaram da cota em 2015\", fontsize = 20)\n",
    "fig.set_size_inches((12,8))\n",
    "fig.savefig(\"figures\\os_10_senadores_que_mais_gastaram_da_cota_em_2015.png\")"
   ]
  },
  {
   "cell_type": "markdown",
   "metadata": {},
   "source": [
    "Quantos senadores gastaram 90% ou mais da verba dispónível por ano?"
   ]
  },
  {
   "cell_type": "code",
   "execution_count": 48,
   "metadata": {},
   "outputs": [
    {
     "data": {
      "text/plain": [
       "3"
      ]
     },
     "execution_count": 48,
     "metadata": {},
     "output_type": "execute_result"
    }
   ],
   "source": [
    "(df.groupby('SENADOR')['VALOR_REEMBOLSADO'].sum() >= 0.9*gasto_ativ_parlamentar_anual).sum()"
   ]
  },
  {
   "cell_type": "markdown",
   "metadata": {},
   "source": [
    "Resposta: 3\n",
    "\n",
    "Quem são esses três?"
   ]
  },
  {
   "cell_type": "code",
   "execution_count": 49,
   "metadata": {},
   "outputs": [
    {
     "name": "stdout",
     "output_type": "stream",
     "text": [
      "VANESSA GRAZZIOTIN\n",
      "JOÃO CAPIBERIBE\n",
      "ROMERO JUCÁ\n"
     ]
    }
   ],
   "source": [
    "for nome in df.groupby('SENADOR')['VALOR_REEMBOLSADO'].sum().nlargest(3).index:\n",
    "    \n",
    "    print(nome)"
   ]
  },
  {
   "cell_type": "markdown",
   "metadata": {},
   "source": [
    "Os 10 senadores que menos pediram reembolso em 2015"
   ]
  },
  {
   "cell_type": "code",
   "execution_count": 50,
   "metadata": {},
   "outputs": [
    {
     "data": {
      "image/png": "[encoded data removed]",
      "text/plain": [
       "<Figure size 864x576 with 1 Axes>"
      ]
     },
     "metadata": {
      "needs_background": "light"
     },
     "output_type": "display_data"
    }
   ],
   "source": [
    "fig, ax = plt.subplots()\n",
    "\n",
    "ax = sns.barplot(y = df.groupby('SENADOR')['VALOR_REEMBOLSADO'].count().nsmallest(10).index, x = df.groupby('SENADOR')['VALOR_REEMBOLSADO'].count().nsmallest(10))\n",
    "ax.set_xlabel(\"Reembolsos recebidos\", fontsize = 15)\n",
    "ax.set_ylabel(\"Senador\", fontsize = 15)\n",
    "ax.set_title(\"Os 10 senadores que menos pediram reembolso em 2015\", fontsize = 20)\n",
    "fig.set_size_inches((12,8))\n",
    "fig.savefig(\"figures\\os_10_senadores_que_menos_pediram_reembolso_em_2015.png\")"
   ]
  },
  {
   "cell_type": "markdown",
   "metadata": {},
   "source": [
    "Os 10 senadores que menos gastaram da cota em 2015"
   ]
  },
  {
   "cell_type": "code",
   "execution_count": 51,
   "metadata": {},
   "outputs": [
    {
     "data": {
      "image/png": "[encoded data removed]",
      "text/plain": [
       "<Figure size 864x576 with 1 Axes>"
      ]
     },
     "metadata": {
      "needs_background": "light"
     },
     "output_type": "display_data"
    }
   ],
   "source": [
    "fig, ax = plt.subplots()\n",
    "\n",
    "ax = sns.barplot(y = df.groupby('SENADOR')['VALOR_REEMBOLSADO'].sum().nsmallest(10).index, x = 100*(df.groupby('SENADOR')['VALOR_REEMBOLSADO'].sum().nsmallest(10))/gasto_ativ_parlamentar_anual)\n",
    "ax.set_xlabel(\"Percentual da cota anual de reembolsos recebido (%)\", fontsize = 15)\n",
    "ax.set_ylabel(\"Senador\", fontsize = 15)\n",
    "ax.set_title(\"Os 10 senadores que menos gastaram da cota em 2015\", fontsize = 20)\n",
    "fig.set_size_inches((12,8))\n",
    "fig.savefig(\"figures\\os_10_senadores_que_menos_gastaram_da_cota_em_2015.png\")"
   ]
  },
  {
   "cell_type": "markdown",
   "metadata": {},
   "source": [
    "Tiveram senadores que gastaram menos ou até 1% da cota anual?"
   ]
  },
  {
   "cell_type": "code",
   "execution_count": 52,
   "metadata": {},
   "outputs": [
    {
     "data": {
      "text/plain": [
       "3"
      ]
     },
     "execution_count": 52,
     "metadata": {},
     "output_type": "execute_result"
    }
   ],
   "source": [
    "(df.groupby('SENADOR')['VALOR_REEMBOLSADO'].sum() <= 0.01*gasto_ativ_parlamentar_anual).sum()"
   ]
  },
  {
   "cell_type": "markdown",
   "metadata": {},
   "source": [
    "Resposta: Sim\n",
    "\n",
    "Quem são esses?"
   ]
  },
  {
   "cell_type": "code",
   "execution_count": 53,
   "metadata": {},
   "outputs": [
    {
     "name": "stdout",
     "output_type": "stream",
     "text": [
      "EPITÁCIO CAFETEIRA\n",
      "MARCO ANTÔNIO COSTA\n",
      "MÁRIO COUTO\n"
     ]
    }
   ],
   "source": [
    "for nome in df.groupby('SENADOR')['VALOR_REEMBOLSADO'].sum().nsmallest(3).index:\n",
    "    \n",
    "    print(nome)"
   ]
  },
  {
   "cell_type": "code",
   "execution_count": 54,
   "metadata": {},
   "outputs": [
    {
     "data": {
      "text/plain": [
       "SENADOR            TIPO_DESPESA                                                                                                                          \n",
       "FERNANDO COLLOR    Serviços de Segurança Privada                                                                                                             300674.40\n",
       "OMAR AZIZ          Contratação de consultorias, assessorias, pesquisas, trabalhos técnicos e outros serviços de apoio ao exercício do mandato parlamentar    298000.00\n",
       "CIRO NOGUEIRA      Locomoção, hospedagem, alimentação, combustíveis e lubrificantes                                                                          265212.12\n",
       "LINDBERGH FARIAS   Passagens aéreas, aquáticas e terrestres nacionais                                                                                        245415.25\n",
       "VICENTINHO ALVES   Locomoção, hospedagem, alimentação, combustíveis e lubrificantes                                                                          242899.57\n",
       "ÂNGELA PORTELA     Contratação de consultorias, assessorias, pesquisas, trabalhos técnicos e outros serviços de apoio ao exercício do mandato parlamentar    232000.00\n",
       "SÉRGIO PETECÃO     Divulgação da atividade parlamentar                                                                                                       226000.00\n",
       "IVO CASSOL         Locomoção, hospedagem, alimentação, combustíveis e lubrificantes                                                                          217809.53\n",
       "DAVI ALCOLUMBRE    Divulgação da atividade parlamentar                                                                                                       216780.00\n",
       "CÁSSIO CUNHA LIMA  Contratação de consultorias, assessorias, pesquisas, trabalhos técnicos e outros serviços de apoio ao exercício do mandato parlamentar    214187.20\n",
       "Name: VALOR_REEMBOLSADO, dtype: float64"
      ]
     },
     "execution_count": 54,
     "metadata": {},
     "output_type": "execute_result"
    }
   ],
   "source": [
    "df.groupby(['SENADOR', 'TIPO_DESPESA'])['VALOR_REEMBOLSADO'].sum().nlargest(10)"
   ]
  },
  {
   "cell_type": "code",
   "execution_count": 55,
   "metadata": {},
   "outputs": [
    {
     "data": {
      "text/plain": [
       "954.1084045901137"
      ]
     },
     "execution_count": 55,
     "metadata": {},
     "output_type": "execute_result"
    }
   ],
   "source": [
    "df['VALOR_REEMBOLSADO'].mean()"
   ]
  },
  {
   "cell_type": "code",
   "execution_count": 56,
   "metadata": {},
   "outputs": [
    {
     "data": {
      "text/plain": [
       "MES\n",
       "1     1152.968644\n",
       "2      991.461741\n",
       "3      908.578530\n",
       "4      928.207886\n",
       "5      900.101507\n",
       "6      892.428403\n",
       "7      888.460133\n",
       "8      853.595004\n",
       "9      879.009533\n",
       "10     891.210906\n",
       "11     911.478385\n",
       "12    1448.851720\n",
       "Name: VALOR_REEMBOLSADO, dtype: float64"
      ]
     },
     "execution_count": 56,
     "metadata": {},
     "output_type": "execute_result"
    }
   ],
   "source": [
    "df.groupby('MES')['VALOR_REEMBOLSADO'].mean()"
   ]
  },
  {
   "cell_type": "code",
   "execution_count": 57,
   "metadata": {},
   "outputs": [
    {
     "data": {
      "text/plain": [
       "TIPO_DESPESA\n",
       "Aluguel de imóveis para escritório político, compreendendo despesas concernentes a eles.                                                                                                            966.169287\n",
       "Aquisição de material de consumo para uso no escritório político, inclusive aquisição ou locação de software, despesas postais, aquisição de publicações, locação de móveis e de equipamentos.      439.358179\n",
       "Contratação de consultorias, assessorias, pesquisas, trabalhos técnicos e outros serviços de apoio ao exercício do mandato parlamentar                                                             2776.288749\n",
       "Divulgação da atividade parlamentar                                                                                                                                                                3519.113050\n",
       "Locomoção, hospedagem, alimentação, combustíveis e lubrificantes                                                                                                                                    580.810746\n",
       "Passagens aéreas, aquáticas e terrestres nacionais                                                                                                                                                  912.034576\n",
       "Serviços de Segurança Privada                                                                                                                                                                      3247.952374\n",
       "Name: VALOR_REEMBOLSADO, dtype: float64"
      ]
     },
     "execution_count": 57,
     "metadata": {},
     "output_type": "execute_result"
    }
   ],
   "source": [
    "df.groupby('TIPO_DESPESA')['VALOR_REEMBOLSADO'].mean()"
   ]
  },
  {
   "cell_type": "code",
   "execution_count": 58,
   "metadata": {},
   "outputs": [
    {
     "data": {
      "text/plain": [
       "SENADOR\n",
       "ACIR GURGACZ              2359.665714\n",
       "ALFREDO NASCIMENTO        2008.363000\n",
       "ALOYSIO NUNES FERREIRA     702.351705\n",
       "ALVARO DIAS                960.255888\n",
       "ANA AMÉLIA                 356.112310\n",
       "                             ...     \n",
       "WALTER PINHEIRO            601.133253\n",
       "WELLINGTON FAGUNDES        455.127615\n",
       "WILDER MORAIS              627.469825\n",
       "ZEZÉ PERRELLA             1409.886584\n",
       "ÂNGELA PORTELA            2238.177634\n",
       "Name: VALOR_REEMBOLSADO, Length: 101, dtype: float64"
      ]
     },
     "execution_count": 58,
     "metadata": {},
     "output_type": "execute_result"
    }
   ],
   "source": [
    "df.groupby('SENADOR')['VALOR_REEMBOLSADO'].mean()"
   ]
  },
  {
   "cell_type": "markdown",
   "metadata": {},
   "source": [
    "## Dia 3 - "
   ]
  },
  {
   "cell_type": "markdown",
   "metadata": {},
   "source": []
  }
 ],
 "metadata": {
  "interpreter": {
   "hash": "1b4799269f6c81626009f2624ac41fed3ce696771e9d8b3ac23eb8a52d0a0eb2"
  },
  "kernelspec": {
   "display_name": "Python 3.9.12 ('env': venv)",
   "language": "python",
   "name": "python3"
  },
  "language_info": {
   "codemirror_mode": {
    "name": "ipython",
    "version": 3
   },
   "file_extension": ".py",
   "mimetype": "text/x-python",
   "name": "python",
   "nbconvert_exporter": "python",
   "pygments_lexer": "ipython3",
   "version": "3.9.12"
  },
  "orig_nbformat": 4
 },
 "nbformat": 4,
 "nbformat_minor": 2
}
